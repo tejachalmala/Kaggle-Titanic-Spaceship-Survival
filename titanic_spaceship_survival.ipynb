{
 "cells": [
  {
   "cell_type": "markdown",
   "id": "3568af67-7adf-4e6d-aeca-2673d479338f",
   "metadata": {},
   "source": [
    "## Import packages"
   ]
  },
  {
   "cell_type": "code",
   "execution_count": 2,
   "id": "717a13e4-2002-40d4-8a19-e3212edda9c5",
   "metadata": {},
   "outputs": [],
   "source": [
    "import pandas as pd\n",
    "import matplotlib.pyplot as plt\n",
    "import seaborn as sns"
   ]
  },
  {
   "cell_type": "markdown",
   "id": "df000ea0-f864-4ef7-a2fa-54b3bc8a2ca5",
   "metadata": {},
   "source": [
    "## Load training data"
   ]
  },
  {
   "cell_type": "code",
   "execution_count": 3,
   "id": "c7c05743-7651-475e-a8fb-bc7fba19b226",
   "metadata": {},
   "outputs": [],
   "source": [
    "train_df = pd.read_csv('spaceship-titanic/train.csv')\n",
    "test_df = pd.read_csv('spaceship-titanic/test.csv')"
   ]
  },
  {
   "cell_type": "markdown",
   "id": "6673a85e-c6a5-42b8-be78-1ced3c32bee0",
   "metadata": {
    "tags": []
   },
   "source": [
    "## Analysing data "
   ]
  },
  {
   "cell_type": "code",
   "execution_count": 4,
   "id": "2842ba63-e4af-4c8f-b820-d72515fe26ea",
   "metadata": {},
   "outputs": [
    {
     "data": {
      "text/plain": [
       "Index(['PassengerId', 'HomePlanet', 'CryoSleep', 'Cabin', 'Destination', 'Age',\n",
       "       'VIP', 'RoomService', 'FoodCourt', 'ShoppingMall', 'Spa', 'VRDeck',\n",
       "       'Name', 'Transported'],\n",
       "      dtype='object')"
      ]
     },
     "execution_count": 4,
     "metadata": {},
     "output_type": "execute_result"
    }
   ],
   "source": [
    "train_df.columns"
   ]
  },
  {
   "cell_type": "markdown",
   "id": "87186514-c688-4332-850c-524d2a2c8eea",
   "metadata": {},
   "source": [
    "### Column details \n",
    "\n",
    "PassengerId - A unique Id for each passenger. Each Id takes the form gggg_pp where gggg indicates a group the passenger is travelling with and pp is their number within the group. People in a group are often family members, but not always.\n",
    "\n",
    "HomePlanet - The planet the passenger departed from, typically their planet of permanent residence.\n",
    "\n",
    "CryoSleep - Indicates whether the passenger elected to be put into suspended animation for the duration of the voyage. Passengers in cryosleep are confined to their cabins.\n",
    "\n",
    "Cabin - The cabin number where the passenger is staying. Takes the form deck/num/side, where side can be either P for Port or S for Starboard.\n",
    "\n",
    "Destination - The planet the passenger will be debarking to.\n",
    "\n",
    "Age - The age of the passenger.\n",
    "\n",
    "VIP - Whether the passenger has paid for special VIP service during the voyage.\n",
    "\n",
    "RoomService, FoodCourt, ShoppingMall, Spa, VRDeck - Amount the passenger has billed at each of the Spaceship Titanic's many luxury amenities.\n",
    "\n",
    "Name - The first and last names of the passenger.\n",
    "\n",
    "Transported - Whether the passenger was transported to another dimension. This is the target, the column you are trying to predict."
   ]
  },
  {
   "cell_type": "code",
   "execution_count": 5,
   "id": "9d54cd3e-f639-48aa-aa59-a08c82af23c8",
   "metadata": {},
   "outputs": [
    {
     "data": {
      "text/html": [
       "<div>\n",
       "<style scoped>\n",
       "    .dataframe tbody tr th:only-of-type {\n",
       "        vertical-align: middle;\n",
       "    }\n",
       "\n",
       "    .dataframe tbody tr th {\n",
       "        vertical-align: top;\n",
       "    }\n",
       "\n",
       "    .dataframe thead th {\n",
       "        text-align: right;\n",
       "    }\n",
       "</style>\n",
       "<table border=\"1\" class=\"dataframe\">\n",
       "  <thead>\n",
       "    <tr style=\"text-align: right;\">\n",
       "      <th></th>\n",
       "      <th>PassengerId</th>\n",
       "      <th>HomePlanet</th>\n",
       "      <th>CryoSleep</th>\n",
       "      <th>Cabin</th>\n",
       "      <th>Destination</th>\n",
       "      <th>Age</th>\n",
       "      <th>VIP</th>\n",
       "      <th>RoomService</th>\n",
       "      <th>FoodCourt</th>\n",
       "      <th>ShoppingMall</th>\n",
       "      <th>Spa</th>\n",
       "      <th>VRDeck</th>\n",
       "      <th>Name</th>\n",
       "      <th>Transported</th>\n",
       "    </tr>\n",
       "  </thead>\n",
       "  <tbody>\n",
       "    <tr>\n",
       "      <th>0</th>\n",
       "      <td>0001_01</td>\n",
       "      <td>Europa</td>\n",
       "      <td>False</td>\n",
       "      <td>B/0/P</td>\n",
       "      <td>TRAPPIST-1e</td>\n",
       "      <td>39.0</td>\n",
       "      <td>False</td>\n",
       "      <td>0.0</td>\n",
       "      <td>0.0</td>\n",
       "      <td>0.0</td>\n",
       "      <td>0.0</td>\n",
       "      <td>0.0</td>\n",
       "      <td>Maham Ofracculy</td>\n",
       "      <td>False</td>\n",
       "    </tr>\n",
       "    <tr>\n",
       "      <th>1</th>\n",
       "      <td>0002_01</td>\n",
       "      <td>Earth</td>\n",
       "      <td>False</td>\n",
       "      <td>F/0/S</td>\n",
       "      <td>TRAPPIST-1e</td>\n",
       "      <td>24.0</td>\n",
       "      <td>False</td>\n",
       "      <td>109.0</td>\n",
       "      <td>9.0</td>\n",
       "      <td>25.0</td>\n",
       "      <td>549.0</td>\n",
       "      <td>44.0</td>\n",
       "      <td>Juanna Vines</td>\n",
       "      <td>True</td>\n",
       "    </tr>\n",
       "    <tr>\n",
       "      <th>2</th>\n",
       "      <td>0003_01</td>\n",
       "      <td>Europa</td>\n",
       "      <td>False</td>\n",
       "      <td>A/0/S</td>\n",
       "      <td>TRAPPIST-1e</td>\n",
       "      <td>58.0</td>\n",
       "      <td>True</td>\n",
       "      <td>43.0</td>\n",
       "      <td>3576.0</td>\n",
       "      <td>0.0</td>\n",
       "      <td>6715.0</td>\n",
       "      <td>49.0</td>\n",
       "      <td>Altark Susent</td>\n",
       "      <td>False</td>\n",
       "    </tr>\n",
       "    <tr>\n",
       "      <th>3</th>\n",
       "      <td>0003_02</td>\n",
       "      <td>Europa</td>\n",
       "      <td>False</td>\n",
       "      <td>A/0/S</td>\n",
       "      <td>TRAPPIST-1e</td>\n",
       "      <td>33.0</td>\n",
       "      <td>False</td>\n",
       "      <td>0.0</td>\n",
       "      <td>1283.0</td>\n",
       "      <td>371.0</td>\n",
       "      <td>3329.0</td>\n",
       "      <td>193.0</td>\n",
       "      <td>Solam Susent</td>\n",
       "      <td>False</td>\n",
       "    </tr>\n",
       "    <tr>\n",
       "      <th>4</th>\n",
       "      <td>0004_01</td>\n",
       "      <td>Earth</td>\n",
       "      <td>False</td>\n",
       "      <td>F/1/S</td>\n",
       "      <td>TRAPPIST-1e</td>\n",
       "      <td>16.0</td>\n",
       "      <td>False</td>\n",
       "      <td>303.0</td>\n",
       "      <td>70.0</td>\n",
       "      <td>151.0</td>\n",
       "      <td>565.0</td>\n",
       "      <td>2.0</td>\n",
       "      <td>Willy Santantines</td>\n",
       "      <td>True</td>\n",
       "    </tr>\n",
       "  </tbody>\n",
       "</table>\n",
       "</div>"
      ],
      "text/plain": [
       "  PassengerId HomePlanet CryoSleep  Cabin  Destination   Age    VIP  \\\n",
       "0     0001_01     Europa     False  B/0/P  TRAPPIST-1e  39.0  False   \n",
       "1     0002_01      Earth     False  F/0/S  TRAPPIST-1e  24.0  False   \n",
       "2     0003_01     Europa     False  A/0/S  TRAPPIST-1e  58.0   True   \n",
       "3     0003_02     Europa     False  A/0/S  TRAPPIST-1e  33.0  False   \n",
       "4     0004_01      Earth     False  F/1/S  TRAPPIST-1e  16.0  False   \n",
       "\n",
       "   RoomService  FoodCourt  ShoppingMall     Spa  VRDeck               Name  \\\n",
       "0          0.0        0.0           0.0     0.0     0.0    Maham Ofracculy   \n",
       "1        109.0        9.0          25.0   549.0    44.0       Juanna Vines   \n",
       "2         43.0     3576.0           0.0  6715.0    49.0      Altark Susent   \n",
       "3          0.0     1283.0         371.0  3329.0   193.0       Solam Susent   \n",
       "4        303.0       70.0         151.0   565.0     2.0  Willy Santantines   \n",
       "\n",
       "   Transported  \n",
       "0        False  \n",
       "1         True  \n",
       "2        False  \n",
       "3        False  \n",
       "4         True  "
      ]
     },
     "execution_count": 5,
     "metadata": {},
     "output_type": "execute_result"
    }
   ],
   "source": [
    "train_df.head()"
   ]
  },
  {
   "cell_type": "code",
   "execution_count": 6,
   "id": "b27dbf18-3ca2-4470-ae97-e4cece072c26",
   "metadata": {},
   "outputs": [
    {
     "data": {
      "text/html": [
       "<div>\n",
       "<style scoped>\n",
       "    .dataframe tbody tr th:only-of-type {\n",
       "        vertical-align: middle;\n",
       "    }\n",
       "\n",
       "    .dataframe tbody tr th {\n",
       "        vertical-align: top;\n",
       "    }\n",
       "\n",
       "    .dataframe thead th {\n",
       "        text-align: right;\n",
       "    }\n",
       "</style>\n",
       "<table border=\"1\" class=\"dataframe\">\n",
       "  <thead>\n",
       "    <tr style=\"text-align: right;\">\n",
       "      <th></th>\n",
       "      <th>Age</th>\n",
       "      <th>RoomService</th>\n",
       "      <th>FoodCourt</th>\n",
       "      <th>ShoppingMall</th>\n",
       "      <th>Spa</th>\n",
       "      <th>VRDeck</th>\n",
       "    </tr>\n",
       "  </thead>\n",
       "  <tbody>\n",
       "    <tr>\n",
       "      <th>count</th>\n",
       "      <td>8514.000000</td>\n",
       "      <td>8512.000000</td>\n",
       "      <td>8510.000000</td>\n",
       "      <td>8485.000000</td>\n",
       "      <td>8510.000000</td>\n",
       "      <td>8505.000000</td>\n",
       "    </tr>\n",
       "    <tr>\n",
       "      <th>mean</th>\n",
       "      <td>28.827930</td>\n",
       "      <td>224.687617</td>\n",
       "      <td>458.077203</td>\n",
       "      <td>173.729169</td>\n",
       "      <td>311.138778</td>\n",
       "      <td>304.854791</td>\n",
       "    </tr>\n",
       "    <tr>\n",
       "      <th>std</th>\n",
       "      <td>14.489021</td>\n",
       "      <td>666.717663</td>\n",
       "      <td>1611.489240</td>\n",
       "      <td>604.696458</td>\n",
       "      <td>1136.705535</td>\n",
       "      <td>1145.717189</td>\n",
       "    </tr>\n",
       "    <tr>\n",
       "      <th>min</th>\n",
       "      <td>0.000000</td>\n",
       "      <td>0.000000</td>\n",
       "      <td>0.000000</td>\n",
       "      <td>0.000000</td>\n",
       "      <td>0.000000</td>\n",
       "      <td>0.000000</td>\n",
       "    </tr>\n",
       "    <tr>\n",
       "      <th>25%</th>\n",
       "      <td>19.000000</td>\n",
       "      <td>0.000000</td>\n",
       "      <td>0.000000</td>\n",
       "      <td>0.000000</td>\n",
       "      <td>0.000000</td>\n",
       "      <td>0.000000</td>\n",
       "    </tr>\n",
       "    <tr>\n",
       "      <th>50%</th>\n",
       "      <td>27.000000</td>\n",
       "      <td>0.000000</td>\n",
       "      <td>0.000000</td>\n",
       "      <td>0.000000</td>\n",
       "      <td>0.000000</td>\n",
       "      <td>0.000000</td>\n",
       "    </tr>\n",
       "    <tr>\n",
       "      <th>75%</th>\n",
       "      <td>38.000000</td>\n",
       "      <td>47.000000</td>\n",
       "      <td>76.000000</td>\n",
       "      <td>27.000000</td>\n",
       "      <td>59.000000</td>\n",
       "      <td>46.000000</td>\n",
       "    </tr>\n",
       "    <tr>\n",
       "      <th>max</th>\n",
       "      <td>79.000000</td>\n",
       "      <td>14327.000000</td>\n",
       "      <td>29813.000000</td>\n",
       "      <td>23492.000000</td>\n",
       "      <td>22408.000000</td>\n",
       "      <td>24133.000000</td>\n",
       "    </tr>\n",
       "  </tbody>\n",
       "</table>\n",
       "</div>"
      ],
      "text/plain": [
       "               Age   RoomService     FoodCourt  ShoppingMall           Spa  \\\n",
       "count  8514.000000   8512.000000   8510.000000   8485.000000   8510.000000   \n",
       "mean     28.827930    224.687617    458.077203    173.729169    311.138778   \n",
       "std      14.489021    666.717663   1611.489240    604.696458   1136.705535   \n",
       "min       0.000000      0.000000      0.000000      0.000000      0.000000   \n",
       "25%      19.000000      0.000000      0.000000      0.000000      0.000000   \n",
       "50%      27.000000      0.000000      0.000000      0.000000      0.000000   \n",
       "75%      38.000000     47.000000     76.000000     27.000000     59.000000   \n",
       "max      79.000000  14327.000000  29813.000000  23492.000000  22408.000000   \n",
       "\n",
       "             VRDeck  \n",
       "count   8505.000000  \n",
       "mean     304.854791  \n",
       "std     1145.717189  \n",
       "min        0.000000  \n",
       "25%        0.000000  \n",
       "50%        0.000000  \n",
       "75%       46.000000  \n",
       "max    24133.000000  "
      ]
     },
     "execution_count": 6,
     "metadata": {},
     "output_type": "execute_result"
    }
   ],
   "source": [
    "train_df.describe()"
   ]
  },
  {
   "cell_type": "code",
   "execution_count": 7,
   "id": "bbf59908-bb2a-4f60-a5d3-ac182255bee7",
   "metadata": {},
   "outputs": [
    {
     "data": {
      "text/plain": [
       "Index(['PassengerId', 'HomePlanet', 'CryoSleep', 'Cabin', 'Destination', 'Age',\n",
       "       'VIP', 'RoomService', 'FoodCourt', 'ShoppingMall', 'Spa', 'VRDeck',\n",
       "       'Name', 'Transported'],\n",
       "      dtype='object')"
      ]
     },
     "execution_count": 7,
     "metadata": {},
     "output_type": "execute_result"
    }
   ],
   "source": [
    "train_df.columns"
   ]
  },
  {
   "cell_type": "code",
   "execution_count": 8,
   "id": "162cc715-2e34-497b-be2e-6ea27badb773",
   "metadata": {},
   "outputs": [
    {
     "name": "stdout",
     "output_type": "stream",
     "text": [
      "<class 'pandas.core.frame.DataFrame'>\n",
      "RangeIndex: 8693 entries, 0 to 8692\n",
      "Data columns (total 14 columns):\n",
      " #   Column        Non-Null Count  Dtype  \n",
      "---  ------        --------------  -----  \n",
      " 0   PassengerId   8693 non-null   object \n",
      " 1   HomePlanet    8492 non-null   object \n",
      " 2   CryoSleep     8476 non-null   object \n",
      " 3   Cabin         8494 non-null   object \n",
      " 4   Destination   8511 non-null   object \n",
      " 5   Age           8514 non-null   float64\n",
      " 6   VIP           8490 non-null   object \n",
      " 7   RoomService   8512 non-null   float64\n",
      " 8   FoodCourt     8510 non-null   float64\n",
      " 9   ShoppingMall  8485 non-null   float64\n",
      " 10  Spa           8510 non-null   float64\n",
      " 11  VRDeck        8505 non-null   float64\n",
      " 12  Name          8493 non-null   object \n",
      " 13  Transported   8693 non-null   bool   \n",
      "dtypes: bool(1), float64(6), object(7)\n",
      "memory usage: 891.5+ KB\n"
     ]
    }
   ],
   "source": [
    "train_df.info()"
   ]
  },
  {
   "cell_type": "markdown",
   "id": "75346c69-7e84-43a6-80bb-96638eb90315",
   "metadata": {},
   "source": [
    "#### 1. How many distinct planets are there and how many people boarded from each"
   ]
  },
  {
   "cell_type": "code",
   "execution_count": 9,
   "id": "6877dbde-4397-47e9-acf0-de5ec6a8a72d",
   "metadata": {},
   "outputs": [
    {
     "data": {
      "image/png": "[encoded data removed]",
      "text/plain": [
       "<Figure size 640x480 with 1 Axes>"
      ]
     },
     "metadata": {},
     "output_type": "display_data"
    }
   ],
   "source": [
    "plt.pie(train_df[\"HomePlanet\"].value_counts(), labels=train_df[\"HomePlanet\"].value_counts().index, autopct='%1.1f%%')\n",
    "plt.title('Distribution of passengers across planets')\n",
    "plt.show()"
   ]
  },
  {
   "cell_type": "code",
   "execution_count": 10,
   "id": "86d1af8c-edff-4c25-b7d7-6aecd316ec3b",
   "metadata": {},
   "outputs": [
    {
     "data": {
      "text/plain": [
       "<Axes: xlabel='HomePlanet', ylabel='count'>"
      ]
     },
     "execution_count": 10,
     "metadata": {},
     "output_type": "execute_result"
    },
    {
     "data": {
      "image/png": "[encoded data removed]",
      "text/plain": [
       "<Figure size 640x480 with 1 Axes>"
      ]
     },
     "metadata": {},
     "output_type": "display_data"
    }
   ],
   "source": [
    "sns.countplot(data = train_df, x = \"HomePlanet\", hue = \"Transported\")"
   ]
  },
  {
   "cell_type": "markdown",
   "id": "343b49cb-719b-442f-aea1-cdefb829db15",
   "metadata": {},
   "source": [
    "#### 2. Survival ratio of people in cryosleep"
   ]
  },
  {
   "cell_type": "code",
   "execution_count": 11,
   "id": "21dd8813-9e47-4e01-9d14-5c88f6d8db39",
   "metadata": {},
   "outputs": [
    {
     "data": {
      "image/png": "[encoded data removed]",
      "text/plain": [
       "<Figure size 640x480 with 1 Axes>"
      ]
     },
     "metadata": {},
     "output_type": "display_data"
    }
   ],
   "source": [
    "plt.pie(train_df[\"CryoSleep\"].value_counts(), labels=train_df[\"CryoSleep\"].value_counts().index, autopct='%1.1f%%')\n",
    "plt.title('Percentage of passengers in cryo sleep')\n",
    "plt.show()"
   ]
  },
  {
   "cell_type": "code",
   "execution_count": 12,
   "id": "1535cbd6-9889-4704-92ee-b1229e879330",
   "metadata": {},
   "outputs": [
    {
     "data": {
      "text/plain": [
       "<Axes: xlabel='CryoSleep', ylabel='count'>"
      ]
     },
     "execution_count": 12,
     "metadata": {},
     "output_type": "execute_result"
    },
    {
     "data": {
      "image/png": "[encoded data removed]",
      "text/plain": [
       "<Figure size 640x480 with 1 Axes>"
      ]
     },
     "metadata": {},
     "output_type": "display_data"
    }
   ],
   "source": [
    "sns.countplot(data = train_df, x = \"CryoSleep\", hue = \"Transported\")"
   ]
  },
  {
   "cell_type": "code",
   "execution_count": 13,
   "id": "3e35bf12-0675-4a0e-b8f3-9905bfec93bf",
   "metadata": {},
   "outputs": [
    {
     "data": {
      "image/png": "[encoded data removed]",
      "text/plain": [
       "<Figure size 640x480 with 1 Axes>"
      ]
     },
     "metadata": {},
     "output_type": "display_data"
    }
   ],
   "source": [
    "plt.pie(train_df[\"Destination\"].value_counts(), labels=train_df[\"Destination\"].value_counts().index, autopct='%1.1f%%')\n",
    "plt.title('Distribution')\n",
    "plt.show()"
   ]
  },
  {
   "cell_type": "markdown",
   "id": "542151cf-24c8-46e9-a362-1526533d9544",
   "metadata": {},
   "source": [
    "#### 3. How are passesngers travelling to different destinations affected"
   ]
  },
  {
   "cell_type": "code",
   "execution_count": 14,
   "id": "65fddbfd-78ad-478b-9d57-35193bbde00b",
   "metadata": {},
   "outputs": [
    {
     "data": {
      "text/plain": [
       "<Axes: xlabel='Destination', ylabel='count'>"
      ]
     },
     "execution_count": 14,
     "metadata": {},
     "output_type": "execute_result"
    },
    {
     "data": {
      "image/png": "[encoded data removed]",
      "text/plain": [
       "<Figure size 640x480 with 1 Axes>"
      ]
     },
     "metadata": {},
     "output_type": "display_data"
    }
   ],
   "source": [
    "sns.countplot(data = train_df, x = \"Destination\", hue = \"Transported\")"
   ]
  },
  {
   "cell_type": "markdown",
   "id": "98d6be00-4813-4312-9156-f1f2753514d6",
   "metadata": {
    "tags": []
   },
   "source": [
    "#### 4. Does age have any relation on the transported status "
   ]
  },
  {
   "cell_type": "code",
   "execution_count": 15,
   "id": "45c9750c-e819-4660-968f-b085ce3001fa",
   "metadata": {},
   "outputs": [],
   "source": [
    "# Converting the age column to categorical for analysis\n",
    "def age_categories(row):\n",
    "    if row['Age'] <= 18:\n",
    "        return \"children\"\n",
    "    elif row['Age'] >= 19 and row['Age'] < 30:\n",
    "        return \"youngadults\"    \n",
    "    elif row['Age'] >= 30 and row['Age'] < 60:\n",
    "        return \"adults\"\n",
    "    else:\n",
    "        return \"old\""
   ]
  },
  {
   "cell_type": "code",
   "execution_count": 16,
   "id": "f411afa8-30da-4d71-aa67-f87058935f5d",
   "metadata": {},
   "outputs": [],
   "source": [
    "train_df['AgeCategories'] = train_df.apply (lambda row: age_categories(row), axis=1)"
   ]
  },
  {
   "cell_type": "code",
   "execution_count": 17,
   "id": "6f58b45f-b1fa-41a5-9752-8eb0c1e9ef48",
   "metadata": {},
   "outputs": [
    {
     "data": {
      "text/plain": [
       "<Axes: xlabel='AgeCategories', ylabel='count'>"
      ]
     },
     "execution_count": 17,
     "metadata": {},
     "output_type": "execute_result"
    },
    {
     "data": {
      "image/png": "[encoded data removed]",
      "text/plain": [
       "<Figure size 640x480 with 1 Axes>"
      ]
     },
     "metadata": {},
     "output_type": "display_data"
    }
   ],
   "source": [
    "sns.countplot(data = train_df, x = \"AgeCategories\", hue = \"Transported\")"
   ]
  },
  {
   "cell_type": "markdown",
   "id": "f053cff6-626d-477c-b9fd-2ffb6e655670",
   "metadata": {},
   "source": [
    "#### 5. Max earning luxury amenity"
   ]
  },
  {
   "cell_type": "code",
   "execution_count": 18,
   "id": "5d22dcaa-f3f4-4516-aec6-500c817d7c4a",
   "metadata": {},
   "outputs": [
    {
     "data": {
      "text/plain": [
       "Text(0.5, 1.0, 'Total Earnings from luxury services')"
      ]
     },
     "execution_count": 18,
     "metadata": {},
     "output_type": "execute_result"
    },
    {
     "data": {
      "image/png": "[encoded data removed]",
      "text/plain": [
       "<Figure size 640x480 with 1 Axes>"
      ]
     },
     "metadata": {},
     "output_type": "display_data"
    }
   ],
   "source": [
    "amenities = ['RoomService', 'FoodCourt', 'ShoppingMall', 'Spa', 'VRDeck']\n",
    "plt.bar(amenities, train_df[amenities].sum().values) \n",
    "plt.xlabel('Luxury Amenities')\n",
    "plt.ylabel('Total Earning')\n",
    "plt.title('Total Earnings from luxury services')"
   ]
  },
  {
   "cell_type": "code",
   "execution_count": 19,
   "id": "cba1d56e-2d44-4e22-8d9a-270f5884b597",
   "metadata": {},
   "outputs": [],
   "source": [
    "#### 6. VIP passengers criteria"
   ]
  },
  {
   "cell_type": "code",
   "execution_count": 20,
   "id": "9cf20ee3-514b-4e71-981b-aefbbb1726f4",
   "metadata": {},
   "outputs": [
    {
     "data": {
      "image/png": "[encoded data removed]",
      "text/plain": [
       "<Figure size 640x480 with 1 Axes>"
      ]
     },
     "metadata": {},
     "output_type": "display_data"
    }
   ],
   "source": [
    "plt.pie(train_df[\"VIP\"].value_counts(), labels=train_df[\"VIP\"].value_counts().index, autopct='%1.1f%%')\n",
    "plt.title('VIP passengers stats')\n",
    "plt.show()"
   ]
  },
  {
   "cell_type": "code",
   "execution_count": 21,
   "id": "a15ed1fe-2ce7-4649-a702-f6277364d807",
   "metadata": {},
   "outputs": [
    {
     "data": {
      "text/plain": [
       "<Axes: xlabel='VIP', ylabel='count'>"
      ]
     },
     "execution_count": 21,
     "metadata": {},
     "output_type": "execute_result"
    },
    {
     "data": {
      "image/png": "[encoded data removed]",
      "text/plain": [
       "<Figure size 640x480 with 1 Axes>"
      ]
     },
     "metadata": {},
     "output_type": "display_data"
    }
   ],
   "source": [
    "sns.countplot(data = train_df, x = \"VIP\", hue = \"Transported\")"
   ]
  },
  {
   "cell_type": "markdown",
   "id": "c7fb4af1-6d6c-4b07-aee0-f7ebef189d1f",
   "metadata": {
    "papermill": {
     "duration": 0.060029,
     "end_time": "2023-06-24T14:03:37.130621",
     "exception": false,
     "start_time": "2023-06-24T14:03:37.070592",
     "status": "completed"
    },
    "tags": []
   },
   "source": [
    "# Feature Engineering\n",
    "Cleaning the dataset and making it ready for training\n",
    "* Features selection\n",
    "* Imputation\n",
    "* Categorical Encoding"
   ]
  },
  {
   "cell_type": "code",
   "execution_count": 22,
   "id": "76ec75e4-f3d0-4719-aa87-fbc6f5051a77",
   "metadata": {
    "papermill": {
     "duration": 0.05269,
     "end_time": "2023-06-24T14:03:17.001795",
     "exception": false,
     "start_time": "2023-06-24T14:03:16.949105",
     "status": "completed"
    },
    "tags": []
   },
   "outputs": [
    {
     "data": {
      "text/plain": [
       "0    B/0/P\n",
       "1    F/0/S\n",
       "2    A/0/S\n",
       "3    A/0/S\n",
       "4    F/1/S\n",
       "Name: Cabin, dtype: object"
      ]
     },
     "execution_count": 22,
     "metadata": {},
     "output_type": "execute_result"
    }
   ],
   "source": [
    "# Composite column exists, dividing into multiple columns\n",
    "train_df.Cabin.head()"
   ]
  },
  {
   "cell_type": "code",
   "execution_count": 23,
   "id": "c49ff9ff-0d01-44c2-95d8-6ccdf5b1fa5f",
   "metadata": {
    "papermill": {
     "duration": 2.521498,
     "end_time": "2023-06-24T14:03:19.646596",
     "exception": false,
     "start_time": "2023-06-24T14:03:17.125098",
     "status": "completed"
    },
    "tags": []
   },
   "outputs": [],
   "source": [
    "train_df[[\"CabinDeck\", \"CabinNum\", \"CabinSide\"]] = train_df.Cabin.apply(lambda cabin: pd.Series(cabin.split(\"/\") if not pd.isnull(cabin) else [float(\"NaN\"), float(\"NaN\"), float(\"NaN\")]))\n",
    "test_df[[\"CabinDeck\", \"CabinNum\", \"CabinSide\"]] = test_df.Cabin.apply(lambda cabin: pd.Series(cabin.split(\"/\") if not pd.isnull(cabin) else [float(\"NaN\"), float(\"NaN\"), float(\"NaN\")]))"
   ]
  },
  {
   "cell_type": "code",
   "execution_count": 24,
   "id": "f3a7abaa-7556-4a0e-b997-2895dbbd6b22",
   "metadata": {
    "papermill": {
     "duration": 0.051902,
     "end_time": "2023-06-24T14:03:19.820843",
     "exception": false,
     "start_time": "2023-06-24T14:03:19.768941",
     "status": "completed"
    },
    "tags": []
   },
   "outputs": [
    {
     "data": {
      "text/plain": [
       "['PassengerId',\n",
       " 'HomePlanet',\n",
       " 'CryoSleep',\n",
       " 'Destination',\n",
       " 'VIP',\n",
       " 'AgeCategories',\n",
       " 'CabinDeck',\n",
       " 'CabinSide']"
      ]
     },
     "execution_count": 24,
     "metadata": {},
     "output_type": "execute_result"
    }
   ],
   "source": [
    "# Dividing features into categorical for one hot encoding \n",
    "categorical_features = [col for col in train_df.columns if train_df[col].dtype == \"object\"]\n",
    "\n",
    "# Removing columns of no importance for training\n",
    "categorical_features.remove(\"Name\")\n",
    "categorical_features.remove(\"Cabin\")\n",
    "categorical_features.remove(\"CabinNum\")\n",
    "categorical_features"
   ]
  },
  {
   "cell_type": "code",
   "execution_count": 25,
   "id": "c4420033-4b0e-42b5-b7bf-92ac98cac86d",
   "metadata": {
    "papermill": {
     "duration": 0.051902,
     "end_time": "2023-06-24T14:03:19.820843",
     "exception": false,
     "start_time": "2023-06-24T14:03:19.768941",
     "status": "completed"
    },
    "tags": []
   },
   "outputs": [
    {
     "data": {
      "text/plain": [
       "['Age', 'RoomService', 'FoodCourt', 'ShoppingMall', 'Spa', 'VRDeck']"
      ]
     },
     "execution_count": 25,
     "metadata": {},
     "output_type": "execute_result"
    }
   ],
   "source": [
    "# Creating numerical columns list for imputation of null values\n",
    "numerical_features = [col for col in train_df.columns if train_df[col].dtype == \"int64\" or train_df[col].dtype == \"float64\"]\n",
    "numerical_features"
   ]
  },
  {
   "cell_type": "markdown",
   "id": "dc93d83c-0088-4f96-b914-3ff5e06ea307",
   "metadata": {
    "papermill": {
     "duration": 0.078598,
     "end_time": "2023-06-24T14:03:37.391656",
     "exception": false,
     "start_time": "2023-06-24T14:03:37.313058",
     "status": "completed"
    },
    "tags": []
   },
   "source": [
    " Splitting the data into features and target"
   ]
  },
  {
   "cell_type": "code",
   "execution_count": 26,
   "id": "bcc262ba-51b9-455d-8ebb-8c549abdd691",
   "metadata": {
    "papermill": {
     "duration": 0.078598,
     "end_time": "2023-06-24T14:03:37.391656",
     "exception": false,
     "start_time": "2023-06-24T14:03:37.313058",
     "status": "completed"
    },
    "tags": []
   },
   "outputs": [],
   "source": [
    "X = train_df.drop([\"Transported\"], axis=1).copy()\n",
    "y = train_df.Transported.copy()"
   ]
  },
  {
   "cell_type": "code",
   "execution_count": 27,
   "id": "1e38198d-d8b4-4484-b9e3-052ec8e780ae",
   "metadata": {
    "papermill": {
     "duration": 0.075073,
     "end_time": "2023-06-24T14:03:37.648510",
     "exception": false,
     "start_time": "2023-06-24T14:03:37.573437",
     "status": "completed"
    },
    "tags": []
   },
   "outputs": [],
   "source": [
    "# Remove PassengerId and other stale columns from training and testing data\n",
    "X = X.drop([\"PassengerId\", \"AgeCategories\"], axis=1)\n",
    "test_df = test_df.drop(\"PassengerId\", axis=1)"
   ]
  },
  {
   "cell_type": "code",
   "execution_count": 28,
   "id": "86288857-93f6-4c6d-8f98-8c1babc689a7",
   "metadata": {
    "papermill": {
     "duration": 0.075073,
     "end_time": "2023-06-24T14:03:37.648510",
     "exception": false,
     "start_time": "2023-06-24T14:03:37.573437",
     "status": "completed"
    },
    "tags": []
   },
   "outputs": [],
   "source": [
    "categorical_features.remove(\"PassengerId\")\n",
    "categorical_features.remove(\"AgeCategories\")"
   ]
  },
  {
   "cell_type": "markdown",
   "id": "167550ad-22bf-4d81-8be6-6c07d53d9bb2",
   "metadata": {
    "papermill": {
     "duration": 0.062362,
     "end_time": "2023-06-24T14:03:37.771623",
     "exception": false,
     "start_time": "2023-06-24T14:03:37.709261",
     "status": "completed"
    },
    "tags": []
   },
   "source": [
    "## Imputation\n",
    "Imputation is a technique used for handling missing data. If you recall, most of our columns are missing between 2 to 2.5% of their values. If a column was missing upwards of 80% of our samples it would be a good idea to drop it entirely, but since we are missing so few values, we should figure out the best way to fill them in. \n",
    "\n",
    "### Imputing numerical values\n",
    "A reminder on how much data is missing:"
   ]
  },
  {
   "cell_type": "code",
   "execution_count": 29,
   "id": "fbd5a897-01f1-420d-a0e2-e63744736b6d",
   "metadata": {
    "papermill": {
     "duration": 0.085079,
     "end_time": "2023-06-24T14:03:37.918833",
     "exception": false,
     "start_time": "2023-06-24T14:03:37.833754",
     "status": "completed"
    },
    "tags": []
   },
   "outputs": [
    {
     "data": {
      "text/plain": [
       "Age             179\n",
       "RoomService     181\n",
       "FoodCourt       183\n",
       "ShoppingMall    208\n",
       "Spa             183\n",
       "VRDeck          188\n",
       "dtype: int64"
      ]
     },
     "metadata": {},
     "output_type": "display_data"
    },
    {
     "name": "stdout",
     "output_type": "stream",
     "text": [
      "\n"
     ]
    },
    {
     "data": {
      "text/plain": [
       "Age              91\n",
       "RoomService      82\n",
       "FoodCourt       106\n",
       "ShoppingMall     98\n",
       "Spa             101\n",
       "VRDeck           80\n",
       "dtype: int64"
      ]
     },
     "metadata": {},
     "output_type": "display_data"
    }
   ],
   "source": [
    "display(X[numerical_features].isnull().sum())\n",
    "print()\n",
    "display(test_df[numerical_features].isnull().sum())"
   ]
  },
  {
   "cell_type": "code",
   "execution_count": 30,
   "id": "cd3e9354-55a9-4292-b8d3-a15a86dbb27c",
   "metadata": {
    "papermill": {
     "duration": 0.081579,
     "end_time": "2023-06-24T14:03:38.189971",
     "exception": false,
     "start_time": "2023-06-24T14:03:38.108392",
     "status": "completed"
    },
    "tags": []
   },
   "outputs": [],
   "source": [
    "for i in numerical_features:\n",
    "    X[i] = X[i].fillna(X[i].median())\n",
    "    # the null values are filled with median of the column\n",
    "    test_df[i] = test_df[i].fillna(X[i].median())"
   ]
  },
  {
   "cell_type": "markdown",
   "id": "ea52adfe-7f16-4049-9a21-e23de49b3d5b",
   "metadata": {
    "papermill": {
     "duration": 0.060897,
     "end_time": "2023-06-24T14:03:38.311822",
     "exception": false,
     "start_time": "2023-06-24T14:03:38.250925",
     "status": "completed"
    },
    "tags": []
   },
   "source": [
    "Let's see how much is missing now (hopefully nothing):"
   ]
  },
  {
   "cell_type": "code",
   "execution_count": 31,
   "id": "aa89dff4-be20-49ee-8fb0-0036588a9f21",
   "metadata": {
    "papermill": {
     "duration": 0.082132,
     "end_time": "2023-06-24T14:03:38.456191",
     "exception": false,
     "start_time": "2023-06-24T14:03:38.374059",
     "status": "completed"
    },
    "tags": []
   },
   "outputs": [
    {
     "data": {
      "text/plain": [
       "Age             0\n",
       "RoomService     0\n",
       "FoodCourt       0\n",
       "ShoppingMall    0\n",
       "Spa             0\n",
       "VRDeck          0\n",
       "dtype: int64"
      ]
     },
     "metadata": {},
     "output_type": "display_data"
    },
    {
     "name": "stdout",
     "output_type": "stream",
     "text": [
      "\n"
     ]
    },
    {
     "data": {
      "text/plain": [
       "Age             0\n",
       "RoomService     0\n",
       "FoodCourt       0\n",
       "ShoppingMall    0\n",
       "Spa             0\n",
       "VRDeck          0\n",
       "dtype: int64"
      ]
     },
     "metadata": {},
     "output_type": "display_data"
    }
   ],
   "source": [
    "display(X[numerical_features].isnull().sum())\n",
    "print()\n",
    "display(test_df[numerical_features].isnull().sum())"
   ]
  },
  {
   "cell_type": "markdown",
   "id": "42846ba7-fff6-48c7-ab31-96d8fc1793f5",
   "metadata": {
    "papermill": {
     "duration": 0.062643,
     "end_time": "2023-06-24T14:03:38.580217",
     "exception": false,
     "start_time": "2023-06-24T14:03:38.517574",
     "status": "completed"
    },
    "tags": []
   },
   "source": [
    "### Imputing categorical values\n"
   ]
  },
  {
   "cell_type": "code",
   "execution_count": 32,
   "id": "3ca39f84-ea32-416e-b1b6-7798cf351737",
   "metadata": {
    "papermill": {
     "duration": 0.109521,
     "end_time": "2023-06-24T14:03:38.751917",
     "exception": false,
     "start_time": "2023-06-24T14:03:38.642396",
     "status": "completed"
    },
    "tags": []
   },
   "outputs": [
    {
     "data": {
      "text/plain": [
       "HomePlanet     201\n",
       "CryoSleep      217\n",
       "Destination    182\n",
       "VIP            203\n",
       "CabinDeck      199\n",
       "CabinSide      199\n",
       "dtype: int64"
      ]
     },
     "metadata": {},
     "output_type": "display_data"
    },
    {
     "name": "stdout",
     "output_type": "stream",
     "text": [
      "\n"
     ]
    },
    {
     "data": {
      "text/plain": [
       "HomePlanet      87\n",
       "CryoSleep       93\n",
       "Destination     92\n",
       "VIP             93\n",
       "CabinDeck      100\n",
       "CabinSide      100\n",
       "dtype: int64"
      ]
     },
     "metadata": {},
     "output_type": "display_data"
    }
   ],
   "source": [
    "display(X[categorical_features].isnull().sum())\n",
    "print()\n",
    "display(test_df[categorical_features].isnull().sum())"
   ]
  },
  {
   "cell_type": "code",
   "execution_count": 33,
   "id": "ed80fe25-794e-45e4-bbe6-faa96c46d151",
   "metadata": {
    "papermill": {
     "duration": 0.113892,
     "end_time": "2023-06-24T14:03:38.929327",
     "exception": false,
     "start_time": "2023-06-24T14:03:38.815435",
     "status": "completed"
    },
    "tags": []
   },
   "outputs": [],
   "source": [
    "# .mode() returns a Series where the first element is what we want\n",
    "for i in categorical_features:\n",
    "    X[i] = X[i].fillna(X[i].mode().iloc[0]) \n",
    "    # Avoiding leakage\n",
    "    test_df[i] = test_df[i].fillna(X[i].mode().iloc[0]) "
   ]
  },
  {
   "cell_type": "code",
   "execution_count": 34,
   "id": "a86c13f8-faa0-4723-86a2-cf29618536bd",
   "metadata": {
    "papermill": {
     "duration": 0.102888,
     "end_time": "2023-06-24T14:03:39.093721",
     "exception": false,
     "start_time": "2023-06-24T14:03:38.990833",
     "status": "completed"
    },
    "tags": []
   },
   "outputs": [
    {
     "data": {
      "text/plain": [
       "HomePlanet     0\n",
       "CryoSleep      0\n",
       "Destination    0\n",
       "VIP            0\n",
       "CabinDeck      0\n",
       "CabinSide      0\n",
       "dtype: int64"
      ]
     },
     "metadata": {},
     "output_type": "display_data"
    },
    {
     "name": "stdout",
     "output_type": "stream",
     "text": [
      "\n"
     ]
    },
    {
     "data": {
      "text/plain": [
       "HomePlanet     0\n",
       "CryoSleep      0\n",
       "Destination    0\n",
       "VIP            0\n",
       "CabinDeck      0\n",
       "CabinSide      0\n",
       "dtype: int64"
      ]
     },
     "metadata": {},
     "output_type": "display_data"
    }
   ],
   "source": [
    "display(X[categorical_features].isnull().sum())\n",
    "print()\n",
    "display(test_df[categorical_features].isnull().sum())"
   ]
  },
  {
   "cell_type": "markdown",
   "id": "749c27b1-9997-45ae-a1e9-ccff9980151f",
   "metadata": {
    "papermill": {
     "duration": 0.062801,
     "end_time": "2023-06-24T14:03:39.217994",
     "exception": false,
     "start_time": "2023-06-24T14:03:39.155193",
     "status": "completed"
    },
    "tags": []
   },
   "source": [
    "## Categorical Encoding\n",
    "The current data has many categorical columns which are strings and need to be encoded beefore training the mode"
   ]
  },
  {
   "cell_type": "code",
   "execution_count": 35,
   "id": "ff54756e-796d-479e-8732-b0e9ec569111",
   "metadata": {
    "papermill": {
     "duration": 0.077479,
     "end_time": "2023-06-24T14:03:39.795929",
     "exception": false,
     "start_time": "2023-06-24T14:03:39.718450",
     "status": "completed"
    },
    "tags": []
   },
   "outputs": [],
   "source": [
    "X = X[numerical_features + categorical_features]\n",
    "test_df = test_df[numerical_features + categorical_features]"
   ]
  },
  {
   "cell_type": "markdown",
   "id": "484aa623-3b74-44e6-87ea-369cbfe1d099",
   "metadata": {
    "papermill": {
     "duration": 0.062668,
     "end_time": "2023-06-24T14:03:39.924179",
     "exception": false,
     "start_time": "2023-06-24T14:03:39.861511",
     "status": "completed"
    },
    "tags": []
   },
   "source": [
    "Checking for diff cat columns how many unique values are present"
   ]
  },
  {
   "cell_type": "code",
   "execution_count": 36,
   "id": "0fc24398-646c-4019-9da1-f9a981ef92f9",
   "metadata": {
    "papermill": {
     "duration": 0.148158,
     "end_time": "2023-06-24T14:03:40.135139",
     "exception": false,
     "start_time": "2023-06-24T14:03:39.986981",
     "status": "completed"
    },
    "tags": []
   },
   "outputs": [
    {
     "name": "stdout",
     "output_type": "stream",
     "text": [
      "Feature name: HomePlanet. \n",
      "No. of unique values: 3 (['Europa' 'Earth' 'Mars'])\n",
      "\n",
      "\n",
      "Feature name: CryoSleep. \n",
      "No. of unique values: 2 ([False  True])\n",
      "\n",
      "\n",
      "Feature name: Destination. \n",
      "No. of unique values: 3 (['TRAPPIST-1e' 'PSO J318.5-22' '55 Cancri e'])\n",
      "\n",
      "\n",
      "Feature name: VIP. \n",
      "No. of unique values: 2 ([False  True])\n",
      "\n",
      "\n",
      "Feature name: CabinDeck. \n",
      "No. of unique values: 8 (['B' 'F' 'A' 'G' 'E' 'D' 'C' 'T'])\n",
      "\n",
      "\n",
      "Feature name: CabinSide. \n",
      "No. of unique values: 2 (['P' 'S'])\n",
      "\n",
      "\n"
     ]
    }
   ],
   "source": [
    "for i in categorical_features:\n",
    "    print(f\"Feature name: {i}. \\nNo. of unique values: {X[i].nunique()} ({X[i].unique()})\\n\\n\")"
   ]
  },
  {
   "cell_type": "code",
   "execution_count": 37,
   "id": "29ff323d-aad3-40bf-9d9a-57aeb459f60f",
   "metadata": {
    "papermill": {
     "duration": 0.07671,
     "end_time": "2023-06-24T14:03:40.672033",
     "exception": false,
     "start_time": "2023-06-24T14:03:40.595323",
     "status": "completed"
    },
    "tags": []
   },
   "outputs": [],
   "source": [
    "# Converting boolean true or false columns to 1 or 0\n",
    "X[[\"CryoSleep\", \"VIP\"]] = X[[\"CryoSleep\", \"VIP\"]].astype(int)\n",
    "test_df[[\"CryoSleep\", \"VIP\"]] = test_df[[\"CryoSleep\", \"VIP\"]].astype(int)"
   ]
  },
  {
   "cell_type": "markdown",
   "id": "6ad9fbbe-68ab-42ff-bb7a-aa454ec02e4e",
   "metadata": {
    "papermill": {
     "duration": 0.064443,
     "end_time": "2023-06-24T14:03:41.111104",
     "exception": false,
     "start_time": "2023-06-24T14:03:41.046661",
     "status": "completed"
    },
    "tags": []
   },
   "source": [
    "The remaining columns can be one hot encoded\n",
    "\n",
    "Cabindeck looks like a ordinal feature as cabins have different classes of passengers, so leaving that column for ordinal encoding"
   ]
  },
  {
   "cell_type": "code",
   "execution_count": 38,
   "id": "5454d35a-4efb-4d36-b436-75cf866703af",
   "metadata": {
    "papermill": {
     "duration": 0.073847,
     "end_time": "2023-06-24T14:03:41.250945",
     "exception": false,
     "start_time": "2023-06-24T14:03:41.177098",
     "status": "completed"
    },
    "tags": []
   },
   "outputs": [],
   "source": [
    "ordinal_column_names = [\"CabinDeck\"]\n",
    "one_hot_column_names = [\"HomePlanet\", \"Destination\", \"CabinSide\"]"
   ]
  },
  {
   "cell_type": "markdown",
   "id": "33625d69-445a-4c2b-a994-7ad1e74feefc",
   "metadata": {
    "papermill": {
     "duration": 0.065681,
     "end_time": "2023-06-24T14:03:41.381694",
     "exception": false,
     "start_time": "2023-06-24T14:03:41.316013",
     "status": "completed"
    },
    "tags": []
   },
   "source": [
    "### Ordinal Encoding"
   ]
  },
  {
   "cell_type": "code",
   "execution_count": 39,
   "id": "63327f16-a7a6-4ec4-bd81-dbd1ffc194a3",
   "metadata": {
    "papermill": {
     "duration": 0.130325,
     "end_time": "2023-06-24T14:03:41.706457",
     "exception": false,
     "start_time": "2023-06-24T14:03:41.576132",
     "status": "completed"
    },
    "tags": []
   },
   "outputs": [],
   "source": [
    "deck_mapping = {\"A\": 1, \"B\": 2, \"C\": 3, \"D\": 4, \"E\": 5, \"F\": 6, \"G\": 7, \"T\": 8}\n",
    "X[ordinal_column_names] = X[ordinal_column_names].replace(deck_mapping)\n",
    "test_df[ordinal_column_names] = test_df[ordinal_column_names].replace(deck_mapping)"
   ]
  },
  {
   "cell_type": "markdown",
   "id": "e983f337-98b0-443e-857c-f47c418c2a8b",
   "metadata": {
    "papermill": {
     "duration": 0.06507,
     "end_time": "2023-06-24T14:03:41.967727",
     "exception": false,
     "start_time": "2023-06-24T14:03:41.902657",
     "status": "completed"
    },
    "tags": []
   },
   "source": [
    "### Categorical Encoding\n"
   ]
  },
  {
   "cell_type": "code",
   "execution_count": 40,
   "id": "2743dc57-2bae-47e4-aba6-25146745f2c8",
   "metadata": {
    "papermill": {
     "duration": 0.091581,
     "end_time": "2023-06-24T14:03:42.124389",
     "exception": false,
     "start_time": "2023-06-24T14:03:42.032808",
     "status": "completed"
    },
    "tags": []
   },
   "outputs": [],
   "source": [
    "X = pd.get_dummies(X).copy()\n",
    "test_df = pd.get_dummies(test_df).copy()"
   ]
  },
  {
   "cell_type": "markdown",
   "id": "eb0ad6fd-2b7e-4cb6-8ac2-9938b8d5a2b2",
   "metadata": {},
   "source": [
    "Final data after encoding and imputation"
   ]
  },
  {
   "cell_type": "code",
   "execution_count": 42,
   "id": "9c4a30f7-7334-4276-8077-2118f8cae2a4",
   "metadata": {},
   "outputs": [
    {
     "data": {
      "text/html": [
       "<div>\n",
       "<style scoped>\n",
       "    .dataframe tbody tr th:only-of-type {\n",
       "        vertical-align: middle;\n",
       "    }\n",
       "\n",
       "    .dataframe tbody tr th {\n",
       "        vertical-align: top;\n",
       "    }\n",
       "\n",
       "    .dataframe thead th {\n",
       "        text-align: right;\n",
       "    }\n",
       "</style>\n",
       "<table border=\"1\" class=\"dataframe\">\n",
       "  <thead>\n",
       "    <tr style=\"text-align: right;\">\n",
       "      <th></th>\n",
       "      <th>Age</th>\n",
       "      <th>RoomService</th>\n",
       "      <th>FoodCourt</th>\n",
       "      <th>ShoppingMall</th>\n",
       "      <th>Spa</th>\n",
       "      <th>VRDeck</th>\n",
       "      <th>CryoSleep</th>\n",
       "      <th>VIP</th>\n",
       "      <th>CabinDeck</th>\n",
       "      <th>HomePlanet_Earth</th>\n",
       "      <th>HomePlanet_Europa</th>\n",
       "      <th>HomePlanet_Mars</th>\n",
       "      <th>Destination_55 Cancri e</th>\n",
       "      <th>Destination_PSO J318.5-22</th>\n",
       "      <th>Destination_TRAPPIST-1e</th>\n",
       "      <th>CabinSide_P</th>\n",
       "      <th>CabinSide_S</th>\n",
       "    </tr>\n",
       "  </thead>\n",
       "  <tbody>\n",
       "    <tr>\n",
       "      <th>0</th>\n",
       "      <td>39.0</td>\n",
       "      <td>0.0</td>\n",
       "      <td>0.0</td>\n",
       "      <td>0.0</td>\n",
       "      <td>0.0</td>\n",
       "      <td>0.0</td>\n",
       "      <td>0</td>\n",
       "      <td>0</td>\n",
       "      <td>2</td>\n",
       "      <td>False</td>\n",
       "      <td>True</td>\n",
       "      <td>False</td>\n",
       "      <td>False</td>\n",
       "      <td>False</td>\n",
       "      <td>True</td>\n",
       "      <td>True</td>\n",
       "      <td>False</td>\n",
       "    </tr>\n",
       "    <tr>\n",
       "      <th>1</th>\n",
       "      <td>24.0</td>\n",
       "      <td>109.0</td>\n",
       "      <td>9.0</td>\n",
       "      <td>25.0</td>\n",
       "      <td>549.0</td>\n",
       "      <td>44.0</td>\n",
       "      <td>0</td>\n",
       "      <td>0</td>\n",
       "      <td>6</td>\n",
       "      <td>True</td>\n",
       "      <td>False</td>\n",
       "      <td>False</td>\n",
       "      <td>False</td>\n",
       "      <td>False</td>\n",
       "      <td>True</td>\n",
       "      <td>False</td>\n",
       "      <td>True</td>\n",
       "    </tr>\n",
       "    <tr>\n",
       "      <th>2</th>\n",
       "      <td>58.0</td>\n",
       "      <td>43.0</td>\n",
       "      <td>3576.0</td>\n",
       "      <td>0.0</td>\n",
       "      <td>6715.0</td>\n",
       "      <td>49.0</td>\n",
       "      <td>0</td>\n",
       "      <td>1</td>\n",
       "      <td>1</td>\n",
       "      <td>False</td>\n",
       "      <td>True</td>\n",
       "      <td>False</td>\n",
       "      <td>False</td>\n",
       "      <td>False</td>\n",
       "      <td>True</td>\n",
       "      <td>False</td>\n",
       "      <td>True</td>\n",
       "    </tr>\n",
       "    <tr>\n",
       "      <th>3</th>\n",
       "      <td>33.0</td>\n",
       "      <td>0.0</td>\n",
       "      <td>1283.0</td>\n",
       "      <td>371.0</td>\n",
       "      <td>3329.0</td>\n",
       "      <td>193.0</td>\n",
       "      <td>0</td>\n",
       "      <td>0</td>\n",
       "      <td>1</td>\n",
       "      <td>False</td>\n",
       "      <td>True</td>\n",
       "      <td>False</td>\n",
       "      <td>False</td>\n",
       "      <td>False</td>\n",
       "      <td>True</td>\n",
       "      <td>False</td>\n",
       "      <td>True</td>\n",
       "    </tr>\n",
       "    <tr>\n",
       "      <th>4</th>\n",
       "      <td>16.0</td>\n",
       "      <td>303.0</td>\n",
       "      <td>70.0</td>\n",
       "      <td>151.0</td>\n",
       "      <td>565.0</td>\n",
       "      <td>2.0</td>\n",
       "      <td>0</td>\n",
       "      <td>0</td>\n",
       "      <td>6</td>\n",
       "      <td>True</td>\n",
       "      <td>False</td>\n",
       "      <td>False</td>\n",
       "      <td>False</td>\n",
       "      <td>False</td>\n",
       "      <td>True</td>\n",
       "      <td>False</td>\n",
       "      <td>True</td>\n",
       "    </tr>\n",
       "  </tbody>\n",
       "</table>\n",
       "</div>"
      ],
      "text/plain": [
       "    Age  RoomService  FoodCourt  ShoppingMall     Spa  VRDeck  CryoSleep  VIP  \\\n",
       "0  39.0          0.0        0.0           0.0     0.0     0.0          0    0   \n",
       "1  24.0        109.0        9.0          25.0   549.0    44.0          0    0   \n",
       "2  58.0         43.0     3576.0           0.0  6715.0    49.0          0    1   \n",
       "3  33.0          0.0     1283.0         371.0  3329.0   193.0          0    0   \n",
       "4  16.0        303.0       70.0         151.0   565.0     2.0          0    0   \n",
       "\n",
       "   CabinDeck  HomePlanet_Earth  HomePlanet_Europa  HomePlanet_Mars  \\\n",
       "0          2             False               True            False   \n",
       "1          6              True              False            False   \n",
       "2          1             False               True            False   \n",
       "3          1             False               True            False   \n",
       "4          6              True              False            False   \n",
       "\n",
       "   Destination_55 Cancri e  Destination_PSO J318.5-22  \\\n",
       "0                    False                      False   \n",
       "1                    False                      False   \n",
       "2                    False                      False   \n",
       "3                    False                      False   \n",
       "4                    False                      False   \n",
       "\n",
       "   Destination_TRAPPIST-1e  CabinSide_P  CabinSide_S  \n",
       "0                     True         True        False  \n",
       "1                     True        False         True  \n",
       "2                     True        False         True  \n",
       "3                     True        False         True  \n",
       "4                     True        False         True  "
      ]
     },
     "execution_count": 42,
     "metadata": {},
     "output_type": "execute_result"
    }
   ],
   "source": [
    "X.head()"
   ]
  },
  {
   "cell_type": "code",
   "execution_count": null,
   "id": "b55ad61e-4bcf-4eee-952c-0bb89be7da07",
   "metadata": {},
   "outputs": [],
   "source": []
  }
 ],
 "metadata": {
  "kernelspec": {
   "display_name": "Python 3 (ipykernel)",
   "language": "python",
   "name": "python3"
  },
  "language_info": {
   "codemirror_mode": {
    "name": "ipython",
    "version": 3
   },
   "file_extension": ".py",
   "mimetype": "text/x-python",
   "name": "python",
   "nbconvert_exporter": "python",
   "pygments_lexer": "ipython3",
   "version": "3.10.11"
  }
 },
 "nbformat": 4,
 "nbformat_minor": 5
}
