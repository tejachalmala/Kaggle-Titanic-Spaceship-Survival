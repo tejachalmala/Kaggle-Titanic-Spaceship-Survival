{
  "cells": [
    {
      "cell_type": "markdown",
      "id": "3568af67-7adf-4e6d-aeca-2673d479338f",
      "metadata": {
        "id": "3568af67-7adf-4e6d-aeca-2673d479338f"
      },
      "source": [
        "## Import packages"
      ]
    },
    {
      "cell_type": "code",
      "execution_count": 1,
      "id": "717a13e4-2002-40d4-8a19-e3212edda9c5",
      "metadata": {
        "id": "717a13e4-2002-40d4-8a19-e3212edda9c5"
      },
      "outputs": [],
      "source": [
        "import pandas as pd\n",
        "import matplotlib.pyplot as plt\n",
        "import seaborn as sns"
      ]
    },
    {
      "cell_type": "markdown",
      "id": "df000ea0-f864-4ef7-a2fa-54b3bc8a2ca5",
      "metadata": {
        "id": "df000ea0-f864-4ef7-a2fa-54b3bc8a2ca5"
      },
      "source": [
        "## Load training data"
      ]
    },
    {
      "cell_type": "code",
      "source": [
        "from google.colab import drive\n",
        "drive.mount('/content/drive')"
      ],
      "metadata": {
        "colab": {
          "base_uri": "https://localhost:8080/"
        },
        "id": "us0BblYABs0G",
        "outputId": "9b5ffd34-8483-46e4-fe67-c1d562fb07a9"
      },
      "id": "us0BblYABs0G",
      "execution_count": 2,
      "outputs": [
        {
          "output_type": "stream",
          "name": "stdout",
          "text": [
            "Mounted at /content/drive\n"
          ]
        }
      ]
    },
    {
      "cell_type": "code",
      "execution_count": 3,
      "id": "c7c05743-7651-475e-a8fb-bc7fba19b226",
      "metadata": {
        "id": "c7c05743-7651-475e-a8fb-bc7fba19b226"
      },
      "outputs": [],
      "source": [
        "train_df = pd.read_csv('/content/drive/MyDrive/train.csv')\n",
        "test_df = pd.read_csv('/content/drive/MyDrive/test.csv')"
      ]
    },
    {
      "cell_type": "markdown",
      "id": "6673a85e-c6a5-42b8-be78-1ced3c32bee0",
      "metadata": {
        "tags": [],
        "id": "6673a85e-c6a5-42b8-be78-1ced3c32bee0"
      },
      "source": [
        "## Analysing data"
      ]
    },
    {
      "cell_type": "code",
      "execution_count": 4,
      "id": "2842ba63-e4af-4c8f-b820-d72515fe26ea",
      "metadata": {
        "colab": {
          "base_uri": "https://localhost:8080/"
        },
        "id": "2842ba63-e4af-4c8f-b820-d72515fe26ea",
        "outputId": "5d1ca98a-c2c2-4354-f2fa-f1464284823d"
      },
      "outputs": [
        {
          "output_type": "execute_result",
          "data": {
            "text/plain": [
              "Index(['PassengerId', 'HomePlanet', 'CryoSleep', 'Cabin', 'Destination', 'Age',\n",
              "       'VIP', 'RoomService', 'FoodCourt', 'ShoppingMall', 'Spa', 'VRDeck',\n",
              "       'Name', 'Transported'],\n",
              "      dtype='object')"
            ]
          },
          "metadata": {},
          "execution_count": 4
        }
      ],
      "source": [
        "train_df.columns"
      ]
    },
    {
      "cell_type": "markdown",
      "id": "87186514-c688-4332-850c-524d2a2c8eea",
      "metadata": {
        "id": "87186514-c688-4332-850c-524d2a2c8eea"
      },
      "source": [
        "#### Column details\n",
        "\n",
        "PassengerId - A unique Id for each passenger. Each Id takes the form gggg_pp where gggg indicates a group the passenger is travelling with and pp is their number within the group. People in a group are often family members, but not always.\n",
        "\n",
        "HomePlanet - The planet the passenger departed from, typically their planet of permanent residence.\n",
        "\n",
        "CryoSleep - Indicates whether the passenger elected to be put into suspended animation for the duration of the voyage. Passengers in cryosleep are confined to their cabins.\n",
        "\n",
        "Cabin - The cabin number where the passenger is staying. Takes the form deck/num/side, where side can be either P for Port or S for Starboard.\n",
        "\n",
        "Destination - The planet the passenger will be debarking to.\n",
        "\n",
        "Age - The age of the passenger.\n",
        "\n",
        "VIP - Whether the passenger has paid for special VIP service during the voyage.\n",
        "\n",
        "RoomService, FoodCourt, ShoppingMall, Spa, VRDeck - Amount the passenger has billed at each of the Spaceship Titanic's many luxury amenities.\n",
        "\n",
        "Name - The first and last names of the passenger.\n",
        "\n",
        "Transported - Whether the passenger was transported to another dimension. This is the target, the column you are trying to predict."
      ]
    },
    {
      "cell_type": "code",
      "execution_count": 5,
      "id": "9d54cd3e-f639-48aa-aa59-a08c82af23c8",
      "metadata": {
        "colab": {
          "base_uri": "https://localhost:8080/",
          "height": 206
        },
        "id": "9d54cd3e-f639-48aa-aa59-a08c82af23c8",
        "outputId": "f5c8fbf4-e20c-4e25-cd26-d84e96133b51"
      },
      "outputs": [
        {
          "output_type": "execute_result",
          "data": {
            "text/plain": [
              "  PassengerId HomePlanet CryoSleep  Cabin  Destination   Age    VIP  \\\n",
              "0     0001_01     Europa     False  B/0/P  TRAPPIST-1e  39.0  False   \n",
              "1     0002_01      Earth     False  F/0/S  TRAPPIST-1e  24.0  False   \n",
              "2     0003_01     Europa     False  A/0/S  TRAPPIST-1e  58.0   True   \n",
              "3     0003_02     Europa     False  A/0/S  TRAPPIST-1e  33.0  False   \n",
              "4     0004_01      Earth     False  F/1/S  TRAPPIST-1e  16.0  False   \n",
              "\n",
              "   RoomService  FoodCourt  ShoppingMall     Spa  VRDeck               Name  \\\n",
              "0          0.0        0.0           0.0     0.0     0.0    Maham Ofracculy   \n",
              "1        109.0        9.0          25.0   549.0    44.0       Juanna Vines   \n",
              "2         43.0     3576.0           0.0  6715.0    49.0      Altark Susent   \n",
              "3          0.0     1283.0         371.0  3329.0   193.0       Solam Susent   \n",
              "4        303.0       70.0         151.0   565.0     2.0  Willy Santantines   \n",
              "\n",
              "   Transported  \n",
              "0        False  \n",
              "1         True  \n",
              "2        False  \n",
              "3        False  \n",
              "4         True  "
            ],
            "text/html": [
              "\n",
              "  <div id=\"df-5e701484-20a6-4732-825b-d7d4466400ae\">\n",
              "    <div class=\"colab-df-container\">\n",
              "      <div>\n",
              "<style scoped>\n",
              "    .dataframe tbody tr th:only-of-type {\n",
              "        vertical-align: middle;\n",
              "    }\n",
              "\n",
              "    .dataframe tbody tr th {\n",
              "        vertical-align: top;\n",
              "    }\n",
              "\n",
              "    .dataframe thead th {\n",
              "        text-align: right;\n",
              "    }\n",
              "</style>\n",
              "<table border=\"1\" class=\"dataframe\">\n",
              "  <thead>\n",
              "    <tr style=\"text-align: right;\">\n",
              "      <th></th>\n",
              "      <th>PassengerId</th>\n",
              "      <th>HomePlanet</th>\n",
              "      <th>CryoSleep</th>\n",
              "      <th>Cabin</th>\n",
              "      <th>Destination</th>\n",
              "      <th>Age</th>\n",
              "      <th>VIP</th>\n",
              "      <th>RoomService</th>\n",
              "      <th>FoodCourt</th>\n",
              "      <th>ShoppingMall</th>\n",
              "      <th>Spa</th>\n",
              "      <th>VRDeck</th>\n",
              "      <th>Name</th>\n",
              "      <th>Transported</th>\n",
              "    </tr>\n",
              "  </thead>\n",
              "  <tbody>\n",
              "    <tr>\n",
              "      <th>0</th>\n",
              "      <td>0001_01</td>\n",
              "      <td>Europa</td>\n",
              "      <td>False</td>\n",
              "      <td>B/0/P</td>\n",
              "      <td>TRAPPIST-1e</td>\n",
              "      <td>39.0</td>\n",
              "      <td>False</td>\n",
              "      <td>0.0</td>\n",
              "      <td>0.0</td>\n",
              "      <td>0.0</td>\n",
              "      <td>0.0</td>\n",
              "      <td>0.0</td>\n",
              "      <td>Maham Ofracculy</td>\n",
              "      <td>False</td>\n",
              "    </tr>\n",
              "    <tr>\n",
              "      <th>1</th>\n",
              "      <td>0002_01</td>\n",
              "      <td>Earth</td>\n",
              "      <td>False</td>\n",
              "      <td>F/0/S</td>\n",
              "      <td>TRAPPIST-1e</td>\n",
              "      <td>24.0</td>\n",
              "      <td>False</td>\n",
              "      <td>109.0</td>\n",
              "      <td>9.0</td>\n",
              "      <td>25.0</td>\n",
              "      <td>549.0</td>\n",
              "      <td>44.0</td>\n",
              "      <td>Juanna Vines</td>\n",
              "      <td>True</td>\n",
              "    </tr>\n",
              "    <tr>\n",
              "      <th>2</th>\n",
              "      <td>0003_01</td>\n",
              "      <td>Europa</td>\n",
              "      <td>False</td>\n",
              "      <td>A/0/S</td>\n",
              "      <td>TRAPPIST-1e</td>\n",
              "      <td>58.0</td>\n",
              "      <td>True</td>\n",
              "      <td>43.0</td>\n",
              "      <td>3576.0</td>\n",
              "      <td>0.0</td>\n",
              "      <td>6715.0</td>\n",
              "      <td>49.0</td>\n",
              "      <td>Altark Susent</td>\n",
              "      <td>False</td>\n",
              "    </tr>\n",
              "    <tr>\n",
              "      <th>3</th>\n",
              "      <td>0003_02</td>\n",
              "      <td>Europa</td>\n",
              "      <td>False</td>\n",
              "      <td>A/0/S</td>\n",
              "      <td>TRAPPIST-1e</td>\n",
              "      <td>33.0</td>\n",
              "      <td>False</td>\n",
              "      <td>0.0</td>\n",
              "      <td>1283.0</td>\n",
              "      <td>371.0</td>\n",
              "      <td>3329.0</td>\n",
              "      <td>193.0</td>\n",
              "      <td>Solam Susent</td>\n",
              "      <td>False</td>\n",
              "    </tr>\n",
              "    <tr>\n",
              "      <th>4</th>\n",
              "      <td>0004_01</td>\n",
              "      <td>Earth</td>\n",
              "      <td>False</td>\n",
              "      <td>F/1/S</td>\n",
              "      <td>TRAPPIST-1e</td>\n",
              "      <td>16.0</td>\n",
              "      <td>False</td>\n",
              "      <td>303.0</td>\n",
              "      <td>70.0</td>\n",
              "      <td>151.0</td>\n",
              "      <td>565.0</td>\n",
              "      <td>2.0</td>\n",
              "      <td>Willy Santantines</td>\n",
              "      <td>True</td>\n",
              "    </tr>\n",
              "  </tbody>\n",
              "</table>\n",
              "</div>\n",
              "      <button class=\"colab-df-convert\" onclick=\"convertToInteractive('df-5e701484-20a6-4732-825b-d7d4466400ae')\"\n",
              "              title=\"Convert this dataframe to an interactive table.\"\n",
              "              style=\"display:none;\">\n",
              "        \n",
              "  <svg xmlns=\"http://www.w3.org/2000/svg\" height=\"24px\"viewBox=\"0 0 24 24\"\n",
              "       width=\"24px\">\n",
              "    <path d=\"M0 0h24v24H0V0z\" fill=\"none\"/>\n",
              "    <path d=\"M18.56 5.44l.94 2.06.94-2.06 2.06-.94-2.06-.94-.94-2.06-.94 2.06-2.06.94zm-11 1L8.5 8.5l.94-2.06 2.06-.94-2.06-.94L8.5 2.5l-.94 2.06-2.06.94zm10 10l.94 2.06.94-2.06 2.06-.94-2.06-.94-.94-2.06-.94 2.06-2.06.94z\"/><path d=\"M17.41 7.96l-1.37-1.37c-.4-.4-.92-.59-1.43-.59-.52 0-1.04.2-1.43.59L10.3 9.45l-7.72 7.72c-.78.78-.78 2.05 0 2.83L4 21.41c.39.39.9.59 1.41.59.51 0 1.02-.2 1.41-.59l7.78-7.78 2.81-2.81c.8-.78.8-2.07 0-2.86zM5.41 20L4 18.59l7.72-7.72 1.47 1.35L5.41 20z\"/>\n",
              "  </svg>\n",
              "      </button>\n",
              "      \n",
              "  <style>\n",
              "    .colab-df-container {\n",
              "      display:flex;\n",
              "      flex-wrap:wrap;\n",
              "      gap: 12px;\n",
              "    }\n",
              "\n",
              "    .colab-df-convert {\n",
              "      background-color: #E8F0FE;\n",
              "      border: none;\n",
              "      border-radius: 50%;\n",
              "      cursor: pointer;\n",
              "      display: none;\n",
              "      fill: #1967D2;\n",
              "      height: 32px;\n",
              "      padding: 0 0 0 0;\n",
              "      width: 32px;\n",
              "    }\n",
              "\n",
              "    .colab-df-convert:hover {\n",
              "      background-color: #E2EBFA;\n",
              "      box-shadow: 0px 1px 2px rgba(60, 64, 67, 0.3), 0px 1px 3px 1px rgba(60, 64, 67, 0.15);\n",
              "      fill: #174EA6;\n",
              "    }\n",
              "\n",
              "    [theme=dark] .colab-df-convert {\n",
              "      background-color: #3B4455;\n",
              "      fill: #D2E3FC;\n",
              "    }\n",
              "\n",
              "    [theme=dark] .colab-df-convert:hover {\n",
              "      background-color: #434B5C;\n",
              "      box-shadow: 0px 1px 3px 1px rgba(0, 0, 0, 0.15);\n",
              "      filter: drop-shadow(0px 1px 2px rgba(0, 0, 0, 0.3));\n",
              "      fill: #FFFFFF;\n",
              "    }\n",
              "  </style>\n",
              "\n",
              "      <script>\n",
              "        const buttonEl =\n",
              "          document.querySelector('#df-5e701484-20a6-4732-825b-d7d4466400ae button.colab-df-convert');\n",
              "        buttonEl.style.display =\n",
              "          google.colab.kernel.accessAllowed ? 'block' : 'none';\n",
              "\n",
              "        async function convertToInteractive(key) {\n",
              "          const element = document.querySelector('#df-5e701484-20a6-4732-825b-d7d4466400ae');\n",
              "          const dataTable =\n",
              "            await google.colab.kernel.invokeFunction('convertToInteractive',\n",
              "                                                     [key], {});\n",
              "          if (!dataTable) return;\n",
              "\n",
              "          const docLinkHtml = 'Like what you see? Visit the ' +\n",
              "            '<a target=\"_blank\" href=https://colab.research.google.com/notebooks/data_table.ipynb>data table notebook</a>'\n",
              "            + ' to learn more about interactive tables.';\n",
              "          element.innerHTML = '';\n",
              "          dataTable['output_type'] = 'display_data';\n",
              "          await google.colab.output.renderOutput(dataTable, element);\n",
              "          const docLink = document.createElement('div');\n",
              "          docLink.innerHTML = docLinkHtml;\n",
              "          element.appendChild(docLink);\n",
              "        }\n",
              "      </script>\n",
              "    </div>\n",
              "  </div>\n",
              "  "
            ]
          },
          "metadata": {},
          "execution_count": 5
        }
      ],
      "source": [
        "train_df.head()"
      ]
    },
    {
      "cell_type": "code",
      "execution_count": 6,
      "id": "b27dbf18-3ca2-4470-ae97-e4cece072c26",
      "metadata": {
        "colab": {
          "base_uri": "https://localhost:8080/",
          "height": 300
        },
        "id": "b27dbf18-3ca2-4470-ae97-e4cece072c26",
        "outputId": "61ceaa22-e451-47c1-a7c8-03c9fac1cfe4"
      },
      "outputs": [
        {
          "output_type": "execute_result",
          "data": {
            "text/plain": [
              "               Age   RoomService     FoodCourt  ShoppingMall           Spa  \\\n",
              "count  8514.000000   8512.000000   8510.000000   8485.000000   8510.000000   \n",
              "mean     28.827930    224.687617    458.077203    173.729169    311.138778   \n",
              "std      14.489021    666.717663   1611.489240    604.696458   1136.705535   \n",
              "min       0.000000      0.000000      0.000000      0.000000      0.000000   \n",
              "25%      19.000000      0.000000      0.000000      0.000000      0.000000   \n",
              "50%      27.000000      0.000000      0.000000      0.000000      0.000000   \n",
              "75%      38.000000     47.000000     76.000000     27.000000     59.000000   \n",
              "max      79.000000  14327.000000  29813.000000  23492.000000  22408.000000   \n",
              "\n",
              "             VRDeck  \n",
              "count   8505.000000  \n",
              "mean     304.854791  \n",
              "std     1145.717189  \n",
              "min        0.000000  \n",
              "25%        0.000000  \n",
              "50%        0.000000  \n",
              "75%       46.000000  \n",
              "max    24133.000000  "
            ],
            "text/html": [
              "\n",
              "  <div id=\"df-8b69f099-3e2a-4621-8d02-0a20cb2e4a8d\">\n",
              "    <div class=\"colab-df-container\">\n",
              "      <div>\n",
              "<style scoped>\n",
              "    .dataframe tbody tr th:only-of-type {\n",
              "        vertical-align: middle;\n",
              "    }\n",
              "\n",
              "    .dataframe tbody tr th {\n",
              "        vertical-align: top;\n",
              "    }\n",
              "\n",
              "    .dataframe thead th {\n",
              "        text-align: right;\n",
              "    }\n",
              "</style>\n",
              "<table border=\"1\" class=\"dataframe\">\n",
              "  <thead>\n",
              "    <tr style=\"text-align: right;\">\n",
              "      <th></th>\n",
              "      <th>Age</th>\n",
              "      <th>RoomService</th>\n",
              "      <th>FoodCourt</th>\n",
              "      <th>ShoppingMall</th>\n",
              "      <th>Spa</th>\n",
              "      <th>VRDeck</th>\n",
              "    </tr>\n",
              "  </thead>\n",
              "  <tbody>\n",
              "    <tr>\n",
              "      <th>count</th>\n",
              "      <td>8514.000000</td>\n",
              "      <td>8512.000000</td>\n",
              "      <td>8510.000000</td>\n",
              "      <td>8485.000000</td>\n",
              "      <td>8510.000000</td>\n",
              "      <td>8505.000000</td>\n",
              "    </tr>\n",
              "    <tr>\n",
              "      <th>mean</th>\n",
              "      <td>28.827930</td>\n",
              "      <td>224.687617</td>\n",
              "      <td>458.077203</td>\n",
              "      <td>173.729169</td>\n",
              "      <td>311.138778</td>\n",
              "      <td>304.854791</td>\n",
              "    </tr>\n",
              "    <tr>\n",
              "      <th>std</th>\n",
              "      <td>14.489021</td>\n",
              "      <td>666.717663</td>\n",
              "      <td>1611.489240</td>\n",
              "      <td>604.696458</td>\n",
              "      <td>1136.705535</td>\n",
              "      <td>1145.717189</td>\n",
              "    </tr>\n",
              "    <tr>\n",
              "      <th>min</th>\n",
              "      <td>0.000000</td>\n",
              "      <td>0.000000</td>\n",
              "      <td>0.000000</td>\n",
              "      <td>0.000000</td>\n",
              "      <td>0.000000</td>\n",
              "      <td>0.000000</td>\n",
              "    </tr>\n",
              "    <tr>\n",
              "      <th>25%</th>\n",
              "      <td>19.000000</td>\n",
              "      <td>0.000000</td>\n",
              "      <td>0.000000</td>\n",
              "      <td>0.000000</td>\n",
              "      <td>0.000000</td>\n",
              "      <td>0.000000</td>\n",
              "    </tr>\n",
              "    <tr>\n",
              "      <th>50%</th>\n",
              "      <td>27.000000</td>\n",
              "      <td>0.000000</td>\n",
              "      <td>0.000000</td>\n",
              "      <td>0.000000</td>\n",
              "      <td>0.000000</td>\n",
              "      <td>0.000000</td>\n",
              "    </tr>\n",
              "    <tr>\n",
              "      <th>75%</th>\n",
              "      <td>38.000000</td>\n",
              "      <td>47.000000</td>\n",
              "      <td>76.000000</td>\n",
              "      <td>27.000000</td>\n",
              "      <td>59.000000</td>\n",
              "      <td>46.000000</td>\n",
              "    </tr>\n",
              "    <tr>\n",
              "      <th>max</th>\n",
              "      <td>79.000000</td>\n",
              "      <td>14327.000000</td>\n",
              "      <td>29813.000000</td>\n",
              "      <td>23492.000000</td>\n",
              "      <td>22408.000000</td>\n",
              "      <td>24133.000000</td>\n",
              "    </tr>\n",
              "  </tbody>\n",
              "</table>\n",
              "</div>\n",
              "      <button class=\"colab-df-convert\" onclick=\"convertToInteractive('df-8b69f099-3e2a-4621-8d02-0a20cb2e4a8d')\"\n",
              "              title=\"Convert this dataframe to an interactive table.\"\n",
              "              style=\"display:none;\">\n",
              "        \n",
              "  <svg xmlns=\"http://www.w3.org/2000/svg\" height=\"24px\"viewBox=\"0 0 24 24\"\n",
              "       width=\"24px\">\n",
              "    <path d=\"M0 0h24v24H0V0z\" fill=\"none\"/>\n",
              "    <path d=\"M18.56 5.44l.94 2.06.94-2.06 2.06-.94-2.06-.94-.94-2.06-.94 2.06-2.06.94zm-11 1L8.5 8.5l.94-2.06 2.06-.94-2.06-.94L8.5 2.5l-.94 2.06-2.06.94zm10 10l.94 2.06.94-2.06 2.06-.94-2.06-.94-.94-2.06-.94 2.06-2.06.94z\"/><path d=\"M17.41 7.96l-1.37-1.37c-.4-.4-.92-.59-1.43-.59-.52 0-1.04.2-1.43.59L10.3 9.45l-7.72 7.72c-.78.78-.78 2.05 0 2.83L4 21.41c.39.39.9.59 1.41.59.51 0 1.02-.2 1.41-.59l7.78-7.78 2.81-2.81c.8-.78.8-2.07 0-2.86zM5.41 20L4 18.59l7.72-7.72 1.47 1.35L5.41 20z\"/>\n",
              "  </svg>\n",
              "      </button>\n",
              "      \n",
              "  <style>\n",
              "    .colab-df-container {\n",
              "      display:flex;\n",
              "      flex-wrap:wrap;\n",
              "      gap: 12px;\n",
              "    }\n",
              "\n",
              "    .colab-df-convert {\n",
              "      background-color: #E8F0FE;\n",
              "      border: none;\n",
              "      border-radius: 50%;\n",
              "      cursor: pointer;\n",
              "      display: none;\n",
              "      fill: #1967D2;\n",
              "      height: 32px;\n",
              "      padding: 0 0 0 0;\n",
              "      width: 32px;\n",
              "    }\n",
              "\n",
              "    .colab-df-convert:hover {\n",
              "      background-color: #E2EBFA;\n",
              "      box-shadow: 0px 1px 2px rgba(60, 64, 67, 0.3), 0px 1px 3px 1px rgba(60, 64, 67, 0.15);\n",
              "      fill: #174EA6;\n",
              "    }\n",
              "\n",
              "    [theme=dark] .colab-df-convert {\n",
              "      background-color: #3B4455;\n",
              "      fill: #D2E3FC;\n",
              "    }\n",
              "\n",
              "    [theme=dark] .colab-df-convert:hover {\n",
              "      background-color: #434B5C;\n",
              "      box-shadow: 0px 1px 3px 1px rgba(0, 0, 0, 0.15);\n",
              "      filter: drop-shadow(0px 1px 2px rgba(0, 0, 0, 0.3));\n",
              "      fill: #FFFFFF;\n",
              "    }\n",
              "  </style>\n",
              "\n",
              "      <script>\n",
              "        const buttonEl =\n",
              "          document.querySelector('#df-8b69f099-3e2a-4621-8d02-0a20cb2e4a8d button.colab-df-convert');\n",
              "        buttonEl.style.display =\n",
              "          google.colab.kernel.accessAllowed ? 'block' : 'none';\n",
              "\n",
              "        async function convertToInteractive(key) {\n",
              "          const element = document.querySelector('#df-8b69f099-3e2a-4621-8d02-0a20cb2e4a8d');\n",
              "          const dataTable =\n",
              "            await google.colab.kernel.invokeFunction('convertToInteractive',\n",
              "                                                     [key], {});\n",
              "          if (!dataTable) return;\n",
              "\n",
              "          const docLinkHtml = 'Like what you see? Visit the ' +\n",
              "            '<a target=\"_blank\" href=https://colab.research.google.com/notebooks/data_table.ipynb>data table notebook</a>'\n",
              "            + ' to learn more about interactive tables.';\n",
              "          element.innerHTML = '';\n",
              "          dataTable['output_type'] = 'display_data';\n",
              "          await google.colab.output.renderOutput(dataTable, element);\n",
              "          const docLink = document.createElement('div');\n",
              "          docLink.innerHTML = docLinkHtml;\n",
              "          element.appendChild(docLink);\n",
              "        }\n",
              "      </script>\n",
              "    </div>\n",
              "  </div>\n",
              "  "
            ]
          },
          "metadata": {},
          "execution_count": 6
        }
      ],
      "source": [
        "train_df.describe()"
      ]
    },
    {
      "cell_type": "code",
      "execution_count": 7,
      "id": "bbf59908-bb2a-4f60-a5d3-ac182255bee7",
      "metadata": {
        "colab": {
          "base_uri": "https://localhost:8080/"
        },
        "id": "bbf59908-bb2a-4f60-a5d3-ac182255bee7",
        "outputId": "b4eb6a05-7c46-48fb-b514-611ee46dbd64"
      },
      "outputs": [
        {
          "output_type": "execute_result",
          "data": {
            "text/plain": [
              "Index(['PassengerId', 'HomePlanet', 'CryoSleep', 'Cabin', 'Destination', 'Age',\n",
              "       'VIP', 'RoomService', 'FoodCourt', 'ShoppingMall', 'Spa', 'VRDeck',\n",
              "       'Name', 'Transported'],\n",
              "      dtype='object')"
            ]
          },
          "metadata": {},
          "execution_count": 7
        }
      ],
      "source": [
        "train_df.columns"
      ]
    },
    {
      "cell_type": "code",
      "execution_count": 8,
      "id": "162cc715-2e34-497b-be2e-6ea27badb773",
      "metadata": {
        "colab": {
          "base_uri": "https://localhost:8080/"
        },
        "id": "162cc715-2e34-497b-be2e-6ea27badb773",
        "outputId": "d25fdd0e-1731-4812-cb51-3872c9b129b3"
      },
      "outputs": [
        {
          "output_type": "stream",
          "name": "stdout",
          "text": [
            "<class 'pandas.core.frame.DataFrame'>\n",
            "RangeIndex: 8693 entries, 0 to 8692\n",
            "Data columns (total 14 columns):\n",
            " #   Column        Non-Null Count  Dtype  \n",
            "---  ------        --------------  -----  \n",
            " 0   PassengerId   8693 non-null   object \n",
            " 1   HomePlanet    8492 non-null   object \n",
            " 2   CryoSleep     8476 non-null   object \n",
            " 3   Cabin         8494 non-null   object \n",
            " 4   Destination   8511 non-null   object \n",
            " 5   Age           8514 non-null   float64\n",
            " 6   VIP           8490 non-null   object \n",
            " 7   RoomService   8512 non-null   float64\n",
            " 8   FoodCourt     8510 non-null   float64\n",
            " 9   ShoppingMall  8485 non-null   float64\n",
            " 10  Spa           8510 non-null   float64\n",
            " 11  VRDeck        8505 non-null   float64\n",
            " 12  Name          8493 non-null   object \n",
            " 13  Transported   8693 non-null   bool   \n",
            "dtypes: bool(1), float64(6), object(7)\n",
            "memory usage: 891.5+ KB\n"
          ]
        }
      ],
      "source": [
        "train_df.info()"
      ]
    },
    {
      "cell_type": "markdown",
      "id": "75346c69-7e84-43a6-80bb-96638eb90315",
      "metadata": {
        "id": "75346c69-7e84-43a6-80bb-96638eb90315"
      },
      "source": [
        "#### 1. How many distinct planets are there and how many people boarded from each"
      ]
    },
    {
      "cell_type": "code",
      "execution_count": 9,
      "id": "6877dbde-4397-47e9-acf0-de5ec6a8a72d",
      "metadata": {
        "colab": {
          "base_uri": "https://localhost:8080/",
          "height": 428
        },
        "id": "6877dbde-4397-47e9-acf0-de5ec6a8a72d",
        "outputId": "705cb241-d498-4f14-ca3b-d628f645cab5"
      },
      "outputs": [
        {
          "output_type": "display_data",
          "data": {
            "text/plain": [
              "<Figure size 640x480 with 1 Axes>"
            ],
            "image/png": "[encoded data removed]"
          },
          "metadata": {}
        }
      ],
      "source": [
        "plt.pie(train_df[\"HomePlanet\"].value_counts(), labels=train_df[\"HomePlanet\"].value_counts().index, autopct='%1.1f%%')\n",
        "plt.title('Distribution of passengers across planets')\n",
        "plt.show()"
      ]
    },
    {
      "cell_type": "code",
      "execution_count": 10,
      "id": "86d1af8c-edff-4c25-b7d7-6aecd316ec3b",
      "metadata": {
        "colab": {
          "base_uri": "https://localhost:8080/",
          "height": 466
        },
        "id": "86d1af8c-edff-4c25-b7d7-6aecd316ec3b",
        "outputId": "61283977-3696-430c-a010-4b6a63a0616a"
      },
      "outputs": [
        {
          "output_type": "execute_result",
          "data": {
            "text/plain": [
              "<Axes: xlabel='HomePlanet', ylabel='count'>"
            ]
          },
          "metadata": {},
          "execution_count": 10
        },
        {
          "output_type": "display_data",
          "data": {
            "text/plain": [
              "<Figure size 640x480 with 1 Axes>"
            ],
            "image/png": "[encoded data removed]"
          },
          "metadata": {}
        }
      ],
      "source": [
        "sns.countplot(data = train_df, x = \"HomePlanet\", hue = \"Transported\")"
      ]
    },
    {
      "cell_type": "markdown",
      "id": "343b49cb-719b-442f-aea1-cdefb829db15",
      "metadata": {
        "id": "343b49cb-719b-442f-aea1-cdefb829db15"
      },
      "source": [
        "#### 2. Survival ratio of people in cryosleep"
      ]
    },
    {
      "cell_type": "code",
      "execution_count": 11,
      "id": "21dd8813-9e47-4e01-9d14-5c88f6d8db39",
      "metadata": {
        "colab": {
          "base_uri": "https://localhost:8080/",
          "height": 428
        },
        "id": "21dd8813-9e47-4e01-9d14-5c88f6d8db39",
        "outputId": "d9a22404-6f82-42cc-ae00-dfaf0ae59746"
      },
      "outputs": [
        {
          "output_type": "display_data",
          "data": {
            "text/plain": [
              "<Figure size 640x480 with 1 Axes>"
            ],
            "image/png": "[encoded data removed]"
          },
          "metadata": {}
        }
      ],
      "source": [
        "plt.pie(train_df[\"CryoSleep\"].value_counts(), labels=train_df[\"CryoSleep\"].value_counts().index, autopct='%1.1f%%')\n",
        "plt.title('Percentage of passengers in cryo sleep')\n",
        "plt.show()"
      ]
    },
    {
      "cell_type": "code",
      "execution_count": 12,
      "id": "1535cbd6-9889-4704-92ee-b1229e879330",
      "metadata": {
        "colab": {
          "base_uri": "https://localhost:8080/",
          "height": 466
        },
        "id": "1535cbd6-9889-4704-92ee-b1229e879330",
        "outputId": "0c0be324-d622-44d5-bf1c-db7578b5b9a7"
      },
      "outputs": [
        {
          "output_type": "execute_result",
          "data": {
            "text/plain": [
              "<Axes: xlabel='CryoSleep', ylabel='count'>"
            ]
          },
          "metadata": {},
          "execution_count": 12
        },
        {
          "output_type": "display_data",
          "data": {
            "text/plain": [
              "<Figure size 640x480 with 1 Axes>"
            ],
            "image/png": "[encoded data removed]"
          },
          "metadata": {}
        }
      ],
      "source": [
        "sns.countplot(data = train_df, x = \"CryoSleep\", hue = \"Transported\")"
      ]
    },
    {
      "cell_type": "markdown",
      "id": "542151cf-24c8-46e9-a362-1526533d9544",
      "metadata": {
        "id": "542151cf-24c8-46e9-a362-1526533d9544"
      },
      "source": [
        "#### 3. How are passesngers travelling to different destinations affected"
      ]
    },
    {
      "cell_type": "code",
      "execution_count": 13,
      "id": "3e35bf12-0675-4a0e-b8f3-9905bfec93bf",
      "metadata": {
        "colab": {
          "base_uri": "https://localhost:8080/",
          "height": 428
        },
        "id": "3e35bf12-0675-4a0e-b8f3-9905bfec93bf",
        "outputId": "ac2fb7c7-6691-475c-c874-ca69bfe7a877"
      },
      "outputs": [
        {
          "output_type": "display_data",
          "data": {
            "text/plain": [
              "<Figure size 640x480 with 1 Axes>"
            ],
            "image/png": "[encoded data removed]"
          },
          "metadata": {}
        }
      ],
      "source": [
        "plt.pie(train_df[\"Destination\"].value_counts(), labels=train_df[\"Destination\"].value_counts().index, autopct='%1.1f%%')\n",
        "plt.title('Distribution')\n",
        "plt.show()"
      ]
    },
    {
      "cell_type": "code",
      "execution_count": 14,
      "id": "65fddbfd-78ad-478b-9d57-35193bbde00b",
      "metadata": {
        "colab": {
          "base_uri": "https://localhost:8080/",
          "height": 466
        },
        "id": "65fddbfd-78ad-478b-9d57-35193bbde00b",
        "outputId": "96bb0985-f6b2-4876-b705-5c0b82f4ed84"
      },
      "outputs": [
        {
          "output_type": "execute_result",
          "data": {
            "text/plain": [
              "<Axes: xlabel='Destination', ylabel='count'>"
            ]
          },
          "metadata": {},
          "execution_count": 14
        },
        {
          "output_type": "display_data",
          "data": {
            "text/plain": [
              "<Figure size 640x480 with 1 Axes>"
            ],
            "image/png": "[encoded data removed]"
          },
          "metadata": {}
        }
      ],
      "source": [
        "sns.countplot(data = train_df, x = \"Destination\", hue = \"Transported\")"
      ]
    },
    {
      "cell_type": "markdown",
      "id": "98d6be00-4813-4312-9156-f1f2753514d6",
      "metadata": {
        "tags": [],
        "id": "98d6be00-4813-4312-9156-f1f2753514d6"
      },
      "source": [
        "#### 4. Does age have any relation on the transported status"
      ]
    },
    {
      "cell_type": "code",
      "execution_count": 15,
      "id": "45c9750c-e819-4660-968f-b085ce3001fa",
      "metadata": {
        "id": "45c9750c-e819-4660-968f-b085ce3001fa"
      },
      "outputs": [],
      "source": [
        "# Converting the age column to categorical for analysis\n",
        "def age_categories(row):\n",
        "    if row['Age'] <= 18:\n",
        "        return \"children\"\n",
        "    elif row['Age'] >= 19 and row['Age'] < 30:\n",
        "        return \"youngadults\"\n",
        "    elif row['Age'] >= 30 and row['Age'] < 60:\n",
        "        return \"adults\"\n",
        "    else:\n",
        "        return \"old\""
      ]
    },
    {
      "cell_type": "code",
      "execution_count": 16,
      "id": "f411afa8-30da-4d71-aa67-f87058935f5d",
      "metadata": {
        "id": "f411afa8-30da-4d71-aa67-f87058935f5d"
      },
      "outputs": [],
      "source": [
        "train_df['AgeCategories'] = train_df.apply (lambda row: age_categories(row), axis=1)"
      ]
    },
    {
      "cell_type": "code",
      "execution_count": 17,
      "id": "6f58b45f-b1fa-41a5-9752-8eb0c1e9ef48",
      "metadata": {
        "colab": {
          "base_uri": "https://localhost:8080/",
          "height": 466
        },
        "id": "6f58b45f-b1fa-41a5-9752-8eb0c1e9ef48",
        "outputId": "6f971b5e-4ec2-4a2e-d869-cb194299df12"
      },
      "outputs": [
        {
          "output_type": "execute_result",
          "data": {
            "text/plain": [
              "<Axes: xlabel='AgeCategories', ylabel='count'>"
            ]
          },
          "metadata": {},
          "execution_count": 17
        },
        {
          "output_type": "display_data",
          "data": {
            "text/plain": [
              "<Figure size 640x480 with 1 Axes>"
            ],
            "image/png": "[encoded data removed]"
          },
          "metadata": {}
        }
      ],
      "source": [
        "sns.countplot(data = train_df, x = \"AgeCategories\", hue = \"Transported\")"
      ]
    },
    {
      "cell_type": "markdown",
      "id": "f053cff6-626d-477c-b9fd-2ffb6e655670",
      "metadata": {
        "id": "f053cff6-626d-477c-b9fd-2ffb6e655670"
      },
      "source": [
        "#### 5. Max earning luxury amenity"
      ]
    },
    {
      "cell_type": "code",
      "execution_count": 18,
      "id": "5d22dcaa-f3f4-4516-aec6-500c817d7c4a",
      "metadata": {
        "colab": {
          "base_uri": "https://localhost:8080/",
          "height": 489
        },
        "id": "5d22dcaa-f3f4-4516-aec6-500c817d7c4a",
        "outputId": "4cbfad70-78ce-4594-a930-773fdef64efe"
      },
      "outputs": [
        {
          "output_type": "execute_result",
          "data": {
            "text/plain": [
              "Text(0.5, 1.0, 'Total Earnings from luxury services')"
            ]
          },
          "metadata": {},
          "execution_count": 18
        },
        {
          "output_type": "display_data",
          "data": {
            "text/plain": [
              "<Figure size 640x480 with 1 Axes>"
            ],
            "image/png": "[encoded data removed]"
          },
          "metadata": {}
        }
      ],
      "source": [
        "amenities = ['RoomService', 'FoodCourt', 'ShoppingMall', 'Spa', 'VRDeck']\n",
        "plt.bar(amenities, train_df[amenities].sum().values)\n",
        "plt.xlabel('Luxury Amenities')\n",
        "plt.ylabel('Total Earning')\n",
        "plt.title('Total Earnings from luxury services')"
      ]
    },
    {
      "cell_type": "code",
      "execution_count": 19,
      "id": "cba1d56e-2d44-4e22-8d9a-270f5884b597",
      "metadata": {
        "id": "cba1d56e-2d44-4e22-8d9a-270f5884b597"
      },
      "outputs": [],
      "source": [
        "#### 6. VIP passengers criteria"
      ]
    },
    {
      "cell_type": "code",
      "execution_count": 20,
      "id": "9cf20ee3-514b-4e71-981b-aefbbb1726f4",
      "metadata": {
        "colab": {
          "base_uri": "https://localhost:8080/",
          "height": 428
        },
        "id": "9cf20ee3-514b-4e71-981b-aefbbb1726f4",
        "outputId": "cf82cb74-091d-4eec-c780-15f780ad35f8"
      },
      "outputs": [
        {
          "output_type": "display_data",
          "data": {
            "text/plain": [
              "<Figure size 640x480 with 1 Axes>"
            ],
            "image/png": "[encoded data removed]"
          },
          "metadata": {}
        }
      ],
      "source": [
        "plt.pie(train_df[\"VIP\"].value_counts(), labels=train_df[\"VIP\"].value_counts().index, autopct='%1.1f%%')\n",
        "plt.title('VIP passengers stats')\n",
        "plt.show()"
      ]
    },
    {
      "cell_type": "code",
      "execution_count": 21,
      "id": "a15ed1fe-2ce7-4649-a702-f6277364d807",
      "metadata": {
        "colab": {
          "base_uri": "https://localhost:8080/",
          "height": 466
        },
        "id": "a15ed1fe-2ce7-4649-a702-f6277364d807",
        "outputId": "7d5f486d-23ca-4343-8c14-7c50d4af95bf"
      },
      "outputs": [
        {
          "output_type": "execute_result",
          "data": {
            "text/plain": [
              "<Axes: xlabel='VIP', ylabel='count'>"
            ]
          },
          "metadata": {},
          "execution_count": 21
        },
        {
          "output_type": "display_data",
          "data": {
            "text/plain": [
              "<Figure size 640x480 with 1 Axes>"
            ],
            "image/png": "[encoded data removed]"
          },
          "metadata": {}
        }
      ],
      "source": [
        "sns.countplot(data = train_df, x = \"VIP\", hue = \"Transported\")"
      ]
    },
    {
      "cell_type": "markdown",
      "id": "c7fb4af1-6d6c-4b07-aee0-f7ebef189d1f",
      "metadata": {
        "papermill": {
          "duration": 0.060029,
          "end_time": "2023-06-24T14:03:37.130621",
          "exception": false,
          "start_time": "2023-06-24T14:03:37.070592",
          "status": "completed"
        },
        "tags": [],
        "id": "c7fb4af1-6d6c-4b07-aee0-f7ebef189d1f"
      },
      "source": [
        "# Feature Engineering\n",
        "Cleaning the dataset and making it ready for training\n",
        "* Features selection\n",
        "* Imputation\n",
        "* Categorical Encoding"
      ]
    },
    {
      "cell_type": "code",
      "execution_count": 22,
      "id": "76ec75e4-f3d0-4719-aa87-fbc6f5051a77",
      "metadata": {
        "papermill": {
          "duration": 0.05269,
          "end_time": "2023-06-24T14:03:17.001795",
          "exception": false,
          "start_time": "2023-06-24T14:03:16.949105",
          "status": "completed"
        },
        "tags": [],
        "colab": {
          "base_uri": "https://localhost:8080/"
        },
        "id": "76ec75e4-f3d0-4719-aa87-fbc6f5051a77",
        "outputId": "5bb23357-b644-43cd-8bbb-bd8be6ed9ed1"
      },
      "outputs": [
        {
          "output_type": "execute_result",
          "data": {
            "text/plain": [
              "0    B/0/P\n",
              "1    F/0/S\n",
              "2    A/0/S\n",
              "3    A/0/S\n",
              "4    F/1/S\n",
              "Name: Cabin, dtype: object"
            ]
          },
          "metadata": {},
          "execution_count": 22
        }
      ],
      "source": [
        "# Composite column exists, dividing into multiple columns\n",
        "train_df.Cabin.head()"
      ]
    },
    {
      "cell_type": "code",
      "execution_count": 23,
      "id": "c49ff9ff-0d01-44c2-95d8-6ccdf5b1fa5f",
      "metadata": {
        "papermill": {
          "duration": 2.521498,
          "end_time": "2023-06-24T14:03:19.646596",
          "exception": false,
          "start_time": "2023-06-24T14:03:17.125098",
          "status": "completed"
        },
        "tags": [],
        "id": "c49ff9ff-0d01-44c2-95d8-6ccdf5b1fa5f"
      },
      "outputs": [],
      "source": [
        "train_df[[\"CabinDeck\", \"CabinNum\", \"CabinSide\"]] = train_df.Cabin.apply(lambda cabin: pd.Series(cabin.split(\"/\") if not pd.isnull(cabin) else [float(\"NaN\"), float(\"NaN\"), float(\"NaN\")]))\n",
        "test_df[[\"CabinDeck\", \"CabinNum\", \"CabinSide\"]] = test_df.Cabin.apply(lambda cabin: pd.Series(cabin.split(\"/\") if not pd.isnull(cabin) else [float(\"NaN\"), float(\"NaN\"), float(\"NaN\")]))"
      ]
    },
    {
      "cell_type": "code",
      "execution_count": 24,
      "id": "f3a7abaa-7556-4a0e-b997-2895dbbd6b22",
      "metadata": {
        "papermill": {
          "duration": 0.051902,
          "end_time": "2023-06-24T14:03:19.820843",
          "exception": false,
          "start_time": "2023-06-24T14:03:19.768941",
          "status": "completed"
        },
        "tags": [],
        "colab": {
          "base_uri": "https://localhost:8080/"
        },
        "id": "f3a7abaa-7556-4a0e-b997-2895dbbd6b22",
        "outputId": "3de4f6a5-5459-403a-ebc4-479fd1e54a60"
      },
      "outputs": [
        {
          "output_type": "execute_result",
          "data": {
            "text/plain": [
              "['PassengerId',\n",
              " 'HomePlanet',\n",
              " 'CryoSleep',\n",
              " 'Destination',\n",
              " 'VIP',\n",
              " 'AgeCategories',\n",
              " 'CabinDeck',\n",
              " 'CabinSide']"
            ]
          },
          "metadata": {},
          "execution_count": 24
        }
      ],
      "source": [
        "# Dividing features into categorical for one hot encoding\n",
        "categorical_features = [col for col in train_df.columns if train_df[col].dtype == \"object\"]\n",
        "\n",
        "# Removing columns of no importance for training\n",
        "categorical_features.remove(\"Name\")\n",
        "categorical_features.remove(\"Cabin\")\n",
        "categorical_features.remove(\"CabinNum\")\n",
        "categorical_features"
      ]
    },
    {
      "cell_type": "code",
      "execution_count": 25,
      "id": "c4420033-4b0e-42b5-b7bf-92ac98cac86d",
      "metadata": {
        "papermill": {
          "duration": 0.051902,
          "end_time": "2023-06-24T14:03:19.820843",
          "exception": false,
          "start_time": "2023-06-24T14:03:19.768941",
          "status": "completed"
        },
        "tags": [],
        "colab": {
          "base_uri": "https://localhost:8080/"
        },
        "id": "c4420033-4b0e-42b5-b7bf-92ac98cac86d",
        "outputId": "6e443aa4-b9bd-41ce-f1d4-122996366913"
      },
      "outputs": [
        {
          "output_type": "execute_result",
          "data": {
            "text/plain": [
              "['Age', 'RoomService', 'FoodCourt', 'ShoppingMall', 'Spa', 'VRDeck']"
            ]
          },
          "metadata": {},
          "execution_count": 25
        }
      ],
      "source": [
        "# Creating numerical columns list for imputation of null values\n",
        "numerical_features = [col for col in train_df.columns if train_df[col].dtype == \"int64\" or train_df[col].dtype == \"float64\"]\n",
        "numerical_features"
      ]
    },
    {
      "cell_type": "markdown",
      "id": "dc93d83c-0088-4f96-b914-3ff5e06ea307",
      "metadata": {
        "papermill": {
          "duration": 0.078598,
          "end_time": "2023-06-24T14:03:37.391656",
          "exception": false,
          "start_time": "2023-06-24T14:03:37.313058",
          "status": "completed"
        },
        "tags": [],
        "id": "dc93d83c-0088-4f96-b914-3ff5e06ea307"
      },
      "source": [
        " Splitting the data into features and target"
      ]
    },
    {
      "cell_type": "code",
      "execution_count": 26,
      "id": "bcc262ba-51b9-455d-8ebb-8c549abdd691",
      "metadata": {
        "papermill": {
          "duration": 0.078598,
          "end_time": "2023-06-24T14:03:37.391656",
          "exception": false,
          "start_time": "2023-06-24T14:03:37.313058",
          "status": "completed"
        },
        "tags": [],
        "id": "bcc262ba-51b9-455d-8ebb-8c549abdd691"
      },
      "outputs": [],
      "source": [
        "X = train_df.drop([\"Transported\"], axis=1).copy()\n",
        "y = train_df.Transported.copy()"
      ]
    },
    {
      "cell_type": "code",
      "execution_count": 27,
      "id": "ee9236cc-e2dc-49d1-9b06-69ae6c9d780f",
      "metadata": {
        "papermill": {
          "duration": 0.075073,
          "end_time": "2023-06-24T14:03:37.648510",
          "exception": false,
          "start_time": "2023-06-24T14:03:37.573437",
          "status": "completed"
        },
        "tags": [],
        "id": "ee9236cc-e2dc-49d1-9b06-69ae6c9d780f"
      },
      "outputs": [],
      "source": [
        "# Saving test Ids for submission purpose\n",
        "test_IDs = test_df[\"PassengerId\"]"
      ]
    },
    {
      "cell_type": "code",
      "execution_count": 28,
      "id": "f80d4210-a4a8-4289-adc3-1d7e326b98e2",
      "metadata": {
        "papermill": {
          "duration": 0.075073,
          "end_time": "2023-06-24T14:03:37.648510",
          "exception": false,
          "start_time": "2023-06-24T14:03:37.573437",
          "status": "completed"
        },
        "tags": [],
        "id": "f80d4210-a4a8-4289-adc3-1d7e326b98e2"
      },
      "outputs": [],
      "source": [
        "# Remove PassengerId and other stale columns from training and testing data\n",
        "X = X.drop([\"PassengerId\", \"AgeCategories\"], axis=1)\n",
        "test_df = test_df.drop(\"PassengerId\", axis=1)"
      ]
    },
    {
      "cell_type": "code",
      "execution_count": 29,
      "id": "86288857-93f6-4c6d-8f98-8c1babc689a7",
      "metadata": {
        "papermill": {
          "duration": 0.075073,
          "end_time": "2023-06-24T14:03:37.648510",
          "exception": false,
          "start_time": "2023-06-24T14:03:37.573437",
          "status": "completed"
        },
        "tags": [],
        "id": "86288857-93f6-4c6d-8f98-8c1babc689a7"
      },
      "outputs": [],
      "source": [
        "categorical_features.remove(\"PassengerId\")\n",
        "categorical_features.remove(\"AgeCategories\")"
      ]
    },
    {
      "cell_type": "markdown",
      "id": "167550ad-22bf-4d81-8be6-6c07d53d9bb2",
      "metadata": {
        "papermill": {
          "duration": 0.062362,
          "end_time": "2023-06-24T14:03:37.771623",
          "exception": false,
          "start_time": "2023-06-24T14:03:37.709261",
          "status": "completed"
        },
        "tags": [],
        "id": "167550ad-22bf-4d81-8be6-6c07d53d9bb2"
      },
      "source": [
        "## Imputation\n",
        "Imputation is a technique used for handling missing data. If you recall, most of our columns are missing between 2 to 2.5% of their values. If a column was missing upwards of 80% of our samples it would be a good idea to drop it entirely, but since we are missing so few values, we should figure out the best way to fill them in.\n",
        "\n",
        "### Imputing numerical values\n",
        "A reminder on how much data is missing:"
      ]
    },
    {
      "cell_type": "code",
      "execution_count": 30,
      "id": "fbd5a897-01f1-420d-a0e2-e63744736b6d",
      "metadata": {
        "papermill": {
          "duration": 0.085079,
          "end_time": "2023-06-24T14:03:37.918833",
          "exception": false,
          "start_time": "2023-06-24T14:03:37.833754",
          "status": "completed"
        },
        "tags": [],
        "colab": {
          "base_uri": "https://localhost:8080/",
          "height": 277
        },
        "id": "fbd5a897-01f1-420d-a0e2-e63744736b6d",
        "outputId": "638c701d-f665-4247-9146-f2a1ad2732f6"
      },
      "outputs": [
        {
          "output_type": "display_data",
          "data": {
            "text/plain": [
              "Age             179\n",
              "RoomService     181\n",
              "FoodCourt       183\n",
              "ShoppingMall    208\n",
              "Spa             183\n",
              "VRDeck          188\n",
              "dtype: int64"
            ]
          },
          "metadata": {}
        },
        {
          "output_type": "stream",
          "name": "stdout",
          "text": [
            "\n"
          ]
        },
        {
          "output_type": "display_data",
          "data": {
            "text/plain": [
              "Age              91\n",
              "RoomService      82\n",
              "FoodCourt       106\n",
              "ShoppingMall     98\n",
              "Spa             101\n",
              "VRDeck           80\n",
              "dtype: int64"
            ]
          },
          "metadata": {}
        }
      ],
      "source": [
        "display(X[numerical_features].isnull().sum())\n",
        "print()\n",
        "display(test_df[numerical_features].isnull().sum())"
      ]
    },
    {
      "cell_type": "code",
      "execution_count": 31,
      "id": "cd3e9354-55a9-4292-b8d3-a15a86dbb27c",
      "metadata": {
        "papermill": {
          "duration": 0.081579,
          "end_time": "2023-06-24T14:03:38.189971",
          "exception": false,
          "start_time": "2023-06-24T14:03:38.108392",
          "status": "completed"
        },
        "tags": [],
        "id": "cd3e9354-55a9-4292-b8d3-a15a86dbb27c"
      },
      "outputs": [],
      "source": [
        "for i in numerical_features:\n",
        "    X[i] = X[i].fillna(X[i].median())\n",
        "    # the null values are filled with median of the column\n",
        "    test_df[i] = test_df[i].fillna(X[i].median())"
      ]
    },
    {
      "cell_type": "markdown",
      "id": "ea52adfe-7f16-4049-9a21-e23de49b3d5b",
      "metadata": {
        "papermill": {
          "duration": 0.060897,
          "end_time": "2023-06-24T14:03:38.311822",
          "exception": false,
          "start_time": "2023-06-24T14:03:38.250925",
          "status": "completed"
        },
        "tags": [],
        "id": "ea52adfe-7f16-4049-9a21-e23de49b3d5b"
      },
      "source": [
        "Let's see how much is missing now (hopefully nothing):"
      ]
    },
    {
      "cell_type": "code",
      "execution_count": 32,
      "id": "aa89dff4-be20-49ee-8fb0-0036588a9f21",
      "metadata": {
        "papermill": {
          "duration": 0.082132,
          "end_time": "2023-06-24T14:03:38.456191",
          "exception": false,
          "start_time": "2023-06-24T14:03:38.374059",
          "status": "completed"
        },
        "tags": [],
        "colab": {
          "base_uri": "https://localhost:8080/",
          "height": 277
        },
        "id": "aa89dff4-be20-49ee-8fb0-0036588a9f21",
        "outputId": "915188c4-e46b-45c5-d610-2f4b5ca3f19c"
      },
      "outputs": [
        {
          "output_type": "display_data",
          "data": {
            "text/plain": [
              "Age             0\n",
              "RoomService     0\n",
              "FoodCourt       0\n",
              "ShoppingMall    0\n",
              "Spa             0\n",
              "VRDeck          0\n",
              "dtype: int64"
            ]
          },
          "metadata": {}
        },
        {
          "output_type": "stream",
          "name": "stdout",
          "text": [
            "\n"
          ]
        },
        {
          "output_type": "display_data",
          "data": {
            "text/plain": [
              "Age             0\n",
              "RoomService     0\n",
              "FoodCourt       0\n",
              "ShoppingMall    0\n",
              "Spa             0\n",
              "VRDeck          0\n",
              "dtype: int64"
            ]
          },
          "metadata": {}
        }
      ],
      "source": [
        "display(X[numerical_features].isnull().sum())\n",
        "print()\n",
        "display(test_df[numerical_features].isnull().sum())"
      ]
    },
    {
      "cell_type": "markdown",
      "id": "42846ba7-fff6-48c7-ab31-96d8fc1793f5",
      "metadata": {
        "papermill": {
          "duration": 0.062643,
          "end_time": "2023-06-24T14:03:38.580217",
          "exception": false,
          "start_time": "2023-06-24T14:03:38.517574",
          "status": "completed"
        },
        "tags": [],
        "id": "42846ba7-fff6-48c7-ab31-96d8fc1793f5"
      },
      "source": [
        "### Imputing categorical values\n"
      ]
    },
    {
      "cell_type": "code",
      "execution_count": 33,
      "id": "3ca39f84-ea32-416e-b1b6-7798cf351737",
      "metadata": {
        "papermill": {
          "duration": 0.109521,
          "end_time": "2023-06-24T14:03:38.751917",
          "exception": false,
          "start_time": "2023-06-24T14:03:38.642396",
          "status": "completed"
        },
        "tags": [],
        "colab": {
          "base_uri": "https://localhost:8080/",
          "height": 131
        },
        "id": "3ca39f84-ea32-416e-b1b6-7798cf351737",
        "outputId": "da747468-1098-4df4-c0c6-7b84bc3f4bec"
      },
      "outputs": [
        {
          "output_type": "error",
          "ename": "SyntaxError",
          "evalue": "ignored",
          "traceback": [
            "\u001b[0;36m  File \u001b[0;32m\"<ipython-input-33-63af5e856e13>\"\u001b[0;36m, line \u001b[0;32m2\u001b[0m\n\u001b[0;31m    print()w\u001b[0m\n\u001b[0m           ^\u001b[0m\n\u001b[0;31mSyntaxError\u001b[0m\u001b[0;31m:\u001b[0m invalid syntax\n"
          ]
        }
      ],
      "source": [
        "display(X[categorical_features].isnull().sum())\n",
        "print()w\n",
        "display(test_df[categorical_features].isnull().sum())"
      ]
    },
    {
      "cell_type": "code",
      "execution_count": 34,
      "id": "ed80fe25-794e-45e4-bbe6-faa96c46d151",
      "metadata": {
        "papermill": {
          "duration": 0.113892,
          "end_time": "2023-06-24T14:03:38.929327",
          "exception": false,
          "start_time": "2023-06-24T14:03:38.815435",
          "status": "completed"
        },
        "tags": [],
        "id": "ed80fe25-794e-45e4-bbe6-faa96c46d151"
      },
      "outputs": [],
      "source": [
        "# .mode() returns a Series where the first element is what we want\n",
        "for i in categorical_features:\n",
        "    X[i] = X[i].fillna(X[i].mode().iloc[0])\n",
        "    # Avoiding leakage\n",
        "    test_df[i] = test_df[i].fillna(X[i].mode().iloc[0])"
      ]
    },
    {
      "cell_type": "code",
      "execution_count": 35,
      "id": "a86c13f8-faa0-4723-86a2-cf29618536bd",
      "metadata": {
        "papermill": {
          "duration": 0.102888,
          "end_time": "2023-06-24T14:03:39.093721",
          "exception": false,
          "start_time": "2023-06-24T14:03:38.990833",
          "status": "completed"
        },
        "tags": [],
        "colab": {
          "base_uri": "https://localhost:8080/",
          "height": 277
        },
        "id": "a86c13f8-faa0-4723-86a2-cf29618536bd",
        "outputId": "ab91b1d3-73b0-4193-8ff1-e1dadd4ab894"
      },
      "outputs": [
        {
          "output_type": "display_data",
          "data": {
            "text/plain": [
              "HomePlanet     0\n",
              "CryoSleep      0\n",
              "Destination    0\n",
              "VIP            0\n",
              "CabinDeck      0\n",
              "CabinSide      0\n",
              "dtype: int64"
            ]
          },
          "metadata": {}
        },
        {
          "output_type": "stream",
          "name": "stdout",
          "text": [
            "\n"
          ]
        },
        {
          "output_type": "display_data",
          "data": {
            "text/plain": [
              "HomePlanet     0\n",
              "CryoSleep      0\n",
              "Destination    0\n",
              "VIP            0\n",
              "CabinDeck      0\n",
              "CabinSide      0\n",
              "dtype: int64"
            ]
          },
          "metadata": {}
        }
      ],
      "source": [
        "display(X[categorical_features].isnull().sum())\n",
        "print()\n",
        "display(test_df[categorical_features].isnull().sum())"
      ]
    },
    {
      "cell_type": "markdown",
      "id": "749c27b1-9997-45ae-a1e9-ccff9980151f",
      "metadata": {
        "papermill": {
          "duration": 0.062801,
          "end_time": "2023-06-24T14:03:39.217994",
          "exception": false,
          "start_time": "2023-06-24T14:03:39.155193",
          "status": "completed"
        },
        "tags": [],
        "id": "749c27b1-9997-45ae-a1e9-ccff9980151f"
      },
      "source": [
        "## Categorical Encoding\n",
        "The current data has many categorical columns which are strings and need to be encoded beefore training the mode"
      ]
    },
    {
      "cell_type": "code",
      "execution_count": 36,
      "id": "ff54756e-796d-479e-8732-b0e9ec569111",
      "metadata": {
        "papermill": {
          "duration": 0.077479,
          "end_time": "2023-06-24T14:03:39.795929",
          "exception": false,
          "start_time": "2023-06-24T14:03:39.718450",
          "status": "completed"
        },
        "tags": [],
        "id": "ff54756e-796d-479e-8732-b0e9ec569111"
      },
      "outputs": [],
      "source": [
        "X = X[numerical_features + categorical_features]\n",
        "test_df = test_df[numerical_features + categorical_features]"
      ]
    },
    {
      "cell_type": "markdown",
      "id": "484aa623-3b74-44e6-87ea-369cbfe1d099",
      "metadata": {
        "papermill": {
          "duration": 0.062668,
          "end_time": "2023-06-24T14:03:39.924179",
          "exception": false,
          "start_time": "2023-06-24T14:03:39.861511",
          "status": "completed"
        },
        "tags": [],
        "id": "484aa623-3b74-44e6-87ea-369cbfe1d099"
      },
      "source": [
        "Checking for diff cat columns how many unique values are present"
      ]
    },
    {
      "cell_type": "code",
      "execution_count": 37,
      "id": "0fc24398-646c-4019-9da1-f9a981ef92f9",
      "metadata": {
        "papermill": {
          "duration": 0.148158,
          "end_time": "2023-06-24T14:03:40.135139",
          "exception": false,
          "start_time": "2023-06-24T14:03:39.986981",
          "status": "completed"
        },
        "tags": [],
        "colab": {
          "base_uri": "https://localhost:8080/"
        },
        "id": "0fc24398-646c-4019-9da1-f9a981ef92f9",
        "outputId": "8e56d500-b59e-4055-d5c9-c1f2d2ed7a30"
      },
      "outputs": [
        {
          "output_type": "stream",
          "name": "stdout",
          "text": [
            "Feature name: HomePlanet. \n",
            "No. of unique values: 3 (['Europa' 'Earth' 'Mars'])\n",
            "\n",
            "\n",
            "Feature name: CryoSleep. \n",
            "No. of unique values: 2 ([False  True])\n",
            "\n",
            "\n",
            "Feature name: Destination. \n",
            "No. of unique values: 3 (['TRAPPIST-1e' 'PSO J318.5-22' '55 Cancri e'])\n",
            "\n",
            "\n",
            "Feature name: VIP. \n",
            "No. of unique values: 2 ([False  True])\n",
            "\n",
            "\n",
            "Feature name: CabinDeck. \n",
            "No. of unique values: 8 (['B' 'F' 'A' 'G' 'E' 'D' 'C' 'T'])\n",
            "\n",
            "\n",
            "Feature name: CabinSide. \n",
            "No. of unique values: 2 (['P' 'S'])\n",
            "\n",
            "\n"
          ]
        }
      ],
      "source": [
        "for i in categorical_features:\n",
        "    print(f\"Feature name: {i}. \\nNo. of unique values: {X[i].nunique()} ({X[i].unique()})\\n\\n\")"
      ]
    },
    {
      "cell_type": "code",
      "execution_count": 38,
      "id": "29ff323d-aad3-40bf-9d9a-57aeb459f60f",
      "metadata": {
        "papermill": {
          "duration": 0.07671,
          "end_time": "2023-06-24T14:03:40.672033",
          "exception": false,
          "start_time": "2023-06-24T14:03:40.595323",
          "status": "completed"
        },
        "tags": [],
        "id": "29ff323d-aad3-40bf-9d9a-57aeb459f60f"
      },
      "outputs": [],
      "source": [
        "# Converting boolean true or false columns to 1 or 0\n",
        "X[[\"CryoSleep\", \"VIP\"]] = X[[\"CryoSleep\", \"VIP\"]].astype(int)\n",
        "test_df[[\"CryoSleep\", \"VIP\"]] = test_df[[\"CryoSleep\", \"VIP\"]].astype(int)"
      ]
    },
    {
      "cell_type": "markdown",
      "id": "6ad9fbbe-68ab-42ff-bb7a-aa454ec02e4e",
      "metadata": {
        "papermill": {
          "duration": 0.064443,
          "end_time": "2023-06-24T14:03:41.111104",
          "exception": false,
          "start_time": "2023-06-24T14:03:41.046661",
          "status": "completed"
        },
        "tags": [],
        "id": "6ad9fbbe-68ab-42ff-bb7a-aa454ec02e4e"
      },
      "source": [
        "The remaining columns can be one hot encoded\n",
        "\n",
        "Cabindeck looks like a ordinal feature as cabins have different classes of passengers, so leaving that column for ordinal encoding"
      ]
    },
    {
      "cell_type": "code",
      "execution_count": 39,
      "id": "5454d35a-4efb-4d36-b436-75cf866703af",
      "metadata": {
        "papermill": {
          "duration": 0.073847,
          "end_time": "2023-06-24T14:03:41.250945",
          "exception": false,
          "start_time": "2023-06-24T14:03:41.177098",
          "status": "completed"
        },
        "tags": [],
        "id": "5454d35a-4efb-4d36-b436-75cf866703af"
      },
      "outputs": [],
      "source": [
        "ordinal_column_names = [\"CabinDeck\"]\n",
        "one_hot_column_names = [\"HomePlanet\", \"Destination\", \"CabinSide\"]"
      ]
    },
    {
      "cell_type": "markdown",
      "id": "33625d69-445a-4c2b-a994-7ad1e74feefc",
      "metadata": {
        "papermill": {
          "duration": 0.065681,
          "end_time": "2023-06-24T14:03:41.381694",
          "exception": false,
          "start_time": "2023-06-24T14:03:41.316013",
          "status": "completed"
        },
        "tags": [],
        "id": "33625d69-445a-4c2b-a994-7ad1e74feefc"
      },
      "source": [
        "### Ordinal Encoding"
      ]
    },
    {
      "cell_type": "code",
      "execution_count": 40,
      "id": "63327f16-a7a6-4ec4-bd81-dbd1ffc194a3",
      "metadata": {
        "papermill": {
          "duration": 0.130325,
          "end_time": "2023-06-24T14:03:41.706457",
          "exception": false,
          "start_time": "2023-06-24T14:03:41.576132",
          "status": "completed"
        },
        "tags": [],
        "id": "63327f16-a7a6-4ec4-bd81-dbd1ffc194a3"
      },
      "outputs": [],
      "source": [
        "deck_mapping = {\"A\": 1, \"B\": 2, \"C\": 3, \"D\": 4, \"E\": 5, \"F\": 6, \"G\": 7, \"T\": 8}\n",
        "X[ordinal_column_names] = X[ordinal_column_names].replace(deck_mapping)\n",
        "test_df[ordinal_column_names] = test_df[ordinal_column_names].replace(deck_mapping)"
      ]
    },
    {
      "cell_type": "markdown",
      "id": "e983f337-98b0-443e-857c-f47c418c2a8b",
      "metadata": {
        "papermill": {
          "duration": 0.06507,
          "end_time": "2023-06-24T14:03:41.967727",
          "exception": false,
          "start_time": "2023-06-24T14:03:41.902657",
          "status": "completed"
        },
        "tags": [],
        "id": "e983f337-98b0-443e-857c-f47c418c2a8b"
      },
      "source": [
        "### Categorical Encoding\n"
      ]
    },
    {
      "cell_type": "code",
      "execution_count": 41,
      "id": "2743dc57-2bae-47e4-aba6-25146745f2c8",
      "metadata": {
        "papermill": {
          "duration": 0.091581,
          "end_time": "2023-06-24T14:03:42.124389",
          "exception": false,
          "start_time": "2023-06-24T14:03:42.032808",
          "status": "completed"
        },
        "tags": [],
        "id": "2743dc57-2bae-47e4-aba6-25146745f2c8"
      },
      "outputs": [],
      "source": [
        "X = pd.get_dummies(X).copy()\n",
        "test_df = pd.get_dummies(test_df).copy()"
      ]
    },
    {
      "cell_type": "markdown",
      "id": "eb0ad6fd-2b7e-4cb6-8ac2-9938b8d5a2b2",
      "metadata": {
        "id": "eb0ad6fd-2b7e-4cb6-8ac2-9938b8d5a2b2"
      },
      "source": [
        "Final data after encoding and imputation"
      ]
    },
    {
      "cell_type": "code",
      "execution_count": 42,
      "id": "9c4a30f7-7334-4276-8077-2118f8cae2a4",
      "metadata": {
        "colab": {
          "base_uri": "https://localhost:8080/",
          "height": 287
        },
        "id": "9c4a30f7-7334-4276-8077-2118f8cae2a4",
        "outputId": "5fe29c55-0608-4ad8-c09c-f0e8fee4bffc"
      },
      "outputs": [
        {
          "output_type": "execute_result",
          "data": {
            "text/plain": [
              "    Age  RoomService  FoodCourt  ShoppingMall     Spa  VRDeck  CryoSleep  VIP  \\\n",
              "0  39.0          0.0        0.0           0.0     0.0     0.0          0    0   \n",
              "1  24.0        109.0        9.0          25.0   549.0    44.0          0    0   \n",
              "2  58.0         43.0     3576.0           0.0  6715.0    49.0          0    1   \n",
              "3  33.0          0.0     1283.0         371.0  3329.0   193.0          0    0   \n",
              "4  16.0        303.0       70.0         151.0   565.0     2.0          0    0   \n",
              "\n",
              "   CabinDeck  HomePlanet_Earth  HomePlanet_Europa  HomePlanet_Mars  \\\n",
              "0          2                 0                  1                0   \n",
              "1          6                 1                  0                0   \n",
              "2          1                 0                  1                0   \n",
              "3          1                 0                  1                0   \n",
              "4          6                 1                  0                0   \n",
              "\n",
              "   Destination_55 Cancri e  Destination_PSO J318.5-22  \\\n",
              "0                        0                          0   \n",
              "1                        0                          0   \n",
              "2                        0                          0   \n",
              "3                        0                          0   \n",
              "4                        0                          0   \n",
              "\n",
              "   Destination_TRAPPIST-1e  CabinSide_P  CabinSide_S  \n",
              "0                        1            1            0  \n",
              "1                        1            0            1  \n",
              "2                        1            0            1  \n",
              "3                        1            0            1  \n",
              "4                        1            0            1  "
            ],
            "text/html": [
              "\n",
              "  <div id=\"df-ad737432-8b92-416b-a1ba-e740a14ef034\">\n",
              "    <div class=\"colab-df-container\">\n",
              "      <div>\n",
              "<style scoped>\n",
              "    .dataframe tbody tr th:only-of-type {\n",
              "        vertical-align: middle;\n",
              "    }\n",
              "\n",
              "    .dataframe tbody tr th {\n",
              "        vertical-align: top;\n",
              "    }\n",
              "\n",
              "    .dataframe thead th {\n",
              "        text-align: right;\n",
              "    }\n",
              "</style>\n",
              "<table border=\"1\" class=\"dataframe\">\n",
              "  <thead>\n",
              "    <tr style=\"text-align: right;\">\n",
              "      <th></th>\n",
              "      <th>Age</th>\n",
              "      <th>RoomService</th>\n",
              "      <th>FoodCourt</th>\n",
              "      <th>ShoppingMall</th>\n",
              "      <th>Spa</th>\n",
              "      <th>VRDeck</th>\n",
              "      <th>CryoSleep</th>\n",
              "      <th>VIP</th>\n",
              "      <th>CabinDeck</th>\n",
              "      <th>HomePlanet_Earth</th>\n",
              "      <th>HomePlanet_Europa</th>\n",
              "      <th>HomePlanet_Mars</th>\n",
              "      <th>Destination_55 Cancri e</th>\n",
              "      <th>Destination_PSO J318.5-22</th>\n",
              "      <th>Destination_TRAPPIST-1e</th>\n",
              "      <th>CabinSide_P</th>\n",
              "      <th>CabinSide_S</th>\n",
              "    </tr>\n",
              "  </thead>\n",
              "  <tbody>\n",
              "    <tr>\n",
              "      <th>0</th>\n",
              "      <td>39.0</td>\n",
              "      <td>0.0</td>\n",
              "      <td>0.0</td>\n",
              "      <td>0.0</td>\n",
              "      <td>0.0</td>\n",
              "      <td>0.0</td>\n",
              "      <td>0</td>\n",
              "      <td>0</td>\n",
              "      <td>2</td>\n",
              "      <td>0</td>\n",
              "      <td>1</td>\n",
              "      <td>0</td>\n",
              "      <td>0</td>\n",
              "      <td>0</td>\n",
              "      <td>1</td>\n",
              "      <td>1</td>\n",
              "      <td>0</td>\n",
              "    </tr>\n",
              "    <tr>\n",
              "      <th>1</th>\n",
              "      <td>24.0</td>\n",
              "      <td>109.0</td>\n",
              "      <td>9.0</td>\n",
              "      <td>25.0</td>\n",
              "      <td>549.0</td>\n",
              "      <td>44.0</td>\n",
              "      <td>0</td>\n",
              "      <td>0</td>\n",
              "      <td>6</td>\n",
              "      <td>1</td>\n",
              "      <td>0</td>\n",
              "      <td>0</td>\n",
              "      <td>0</td>\n",
              "      <td>0</td>\n",
              "      <td>1</td>\n",
              "      <td>0</td>\n",
              "      <td>1</td>\n",
              "    </tr>\n",
              "    <tr>\n",
              "      <th>2</th>\n",
              "      <td>58.0</td>\n",
              "      <td>43.0</td>\n",
              "      <td>3576.0</td>\n",
              "      <td>0.0</td>\n",
              "      <td>6715.0</td>\n",
              "      <td>49.0</td>\n",
              "      <td>0</td>\n",
              "      <td>1</td>\n",
              "      <td>1</td>\n",
              "      <td>0</td>\n",
              "      <td>1</td>\n",
              "      <td>0</td>\n",
              "      <td>0</td>\n",
              "      <td>0</td>\n",
              "      <td>1</td>\n",
              "      <td>0</td>\n",
              "      <td>1</td>\n",
              "    </tr>\n",
              "    <tr>\n",
              "      <th>3</th>\n",
              "      <td>33.0</td>\n",
              "      <td>0.0</td>\n",
              "      <td>1283.0</td>\n",
              "      <td>371.0</td>\n",
              "      <td>3329.0</td>\n",
              "      <td>193.0</td>\n",
              "      <td>0</td>\n",
              "      <td>0</td>\n",
              "      <td>1</td>\n",
              "      <td>0</td>\n",
              "      <td>1</td>\n",
              "      <td>0</td>\n",
              "      <td>0</td>\n",
              "      <td>0</td>\n",
              "      <td>1</td>\n",
              "      <td>0</td>\n",
              "      <td>1</td>\n",
              "    </tr>\n",
              "    <tr>\n",
              "      <th>4</th>\n",
              "      <td>16.0</td>\n",
              "      <td>303.0</td>\n",
              "      <td>70.0</td>\n",
              "      <td>151.0</td>\n",
              "      <td>565.0</td>\n",
              "      <td>2.0</td>\n",
              "      <td>0</td>\n",
              "      <td>0</td>\n",
              "      <td>6</td>\n",
              "      <td>1</td>\n",
              "      <td>0</td>\n",
              "      <td>0</td>\n",
              "      <td>0</td>\n",
              "      <td>0</td>\n",
              "      <td>1</td>\n",
              "      <td>0</td>\n",
              "      <td>1</td>\n",
              "    </tr>\n",
              "  </tbody>\n",
              "</table>\n",
              "</div>\n",
              "      <button class=\"colab-df-convert\" onclick=\"convertToInteractive('df-ad737432-8b92-416b-a1ba-e740a14ef034')\"\n",
              "              title=\"Convert this dataframe to an interactive table.\"\n",
              "              style=\"display:none;\">\n",
              "        \n",
              "  <svg xmlns=\"http://www.w3.org/2000/svg\" height=\"24px\"viewBox=\"0 0 24 24\"\n",
              "       width=\"24px\">\n",
              "    <path d=\"M0 0h24v24H0V0z\" fill=\"none\"/>\n",
              "    <path d=\"M18.56 5.44l.94 2.06.94-2.06 2.06-.94-2.06-.94-.94-2.06-.94 2.06-2.06.94zm-11 1L8.5 8.5l.94-2.06 2.06-.94-2.06-.94L8.5 2.5l-.94 2.06-2.06.94zm10 10l.94 2.06.94-2.06 2.06-.94-2.06-.94-.94-2.06-.94 2.06-2.06.94z\"/><path d=\"M17.41 7.96l-1.37-1.37c-.4-.4-.92-.59-1.43-.59-.52 0-1.04.2-1.43.59L10.3 9.45l-7.72 7.72c-.78.78-.78 2.05 0 2.83L4 21.41c.39.39.9.59 1.41.59.51 0 1.02-.2 1.41-.59l7.78-7.78 2.81-2.81c.8-.78.8-2.07 0-2.86zM5.41 20L4 18.59l7.72-7.72 1.47 1.35L5.41 20z\"/>\n",
              "  </svg>\n",
              "      </button>\n",
              "      \n",
              "  <style>\n",
              "    .colab-df-container {\n",
              "      display:flex;\n",
              "      flex-wrap:wrap;\n",
              "      gap: 12px;\n",
              "    }\n",
              "\n",
              "    .colab-df-convert {\n",
              "      background-color: #E8F0FE;\n",
              "      border: none;\n",
              "      border-radius: 50%;\n",
              "      cursor: pointer;\n",
              "      display: none;\n",
              "      fill: #1967D2;\n",
              "      height: 32px;\n",
              "      padding: 0 0 0 0;\n",
              "      width: 32px;\n",
              "    }\n",
              "\n",
              "    .colab-df-convert:hover {\n",
              "      background-color: #E2EBFA;\n",
              "      box-shadow: 0px 1px 2px rgba(60, 64, 67, 0.3), 0px 1px 3px 1px rgba(60, 64, 67, 0.15);\n",
              "      fill: #174EA6;\n",
              "    }\n",
              "\n",
              "    [theme=dark] .colab-df-convert {\n",
              "      background-color: #3B4455;\n",
              "      fill: #D2E3FC;\n",
              "    }\n",
              "\n",
              "    [theme=dark] .colab-df-convert:hover {\n",
              "      background-color: #434B5C;\n",
              "      box-shadow: 0px 1px 3px 1px rgba(0, 0, 0, 0.15);\n",
              "      filter: drop-shadow(0px 1px 2px rgba(0, 0, 0, 0.3));\n",
              "      fill: #FFFFFF;\n",
              "    }\n",
              "  </style>\n",
              "\n",
              "      <script>\n",
              "        const buttonEl =\n",
              "          document.querySelector('#df-ad737432-8b92-416b-a1ba-e740a14ef034 button.colab-df-convert');\n",
              "        buttonEl.style.display =\n",
              "          google.colab.kernel.accessAllowed ? 'block' : 'none';\n",
              "\n",
              "        async function convertToInteractive(key) {\n",
              "          const element = document.querySelector('#df-ad737432-8b92-416b-a1ba-e740a14ef034');\n",
              "          const dataTable =\n",
              "            await google.colab.kernel.invokeFunction('convertToInteractive',\n",
              "                                                     [key], {});\n",
              "          if (!dataTable) return;\n",
              "\n",
              "          const docLinkHtml = 'Like what you see? Visit the ' +\n",
              "            '<a target=\"_blank\" href=https://colab.research.google.com/notebooks/data_table.ipynb>data table notebook</a>'\n",
              "            + ' to learn more about interactive tables.';\n",
              "          element.innerHTML = '';\n",
              "          dataTable['output_type'] = 'display_data';\n",
              "          await google.colab.output.renderOutput(dataTable, element);\n",
              "          const docLink = document.createElement('div');\n",
              "          docLink.innerHTML = docLinkHtml;\n",
              "          element.appendChild(docLink);\n",
              "        }\n",
              "      </script>\n",
              "    </div>\n",
              "  </div>\n",
              "  "
            ]
          },
          "metadata": {},
          "execution_count": 42
        }
      ],
      "source": [
        "X.head()"
      ]
    },
    {
      "cell_type": "markdown",
      "id": "5a38ab61-3461-4ebf-8b80-fca6244649ea",
      "metadata": {
        "papermill": {
          "duration": 0.067141,
          "end_time": "2023-06-24T14:03:42.732481",
          "exception": false,
          "start_time": "2023-06-24T14:03:42.665340",
          "status": "completed"
        },
        "tags": [],
        "id": "5a38ab61-3461-4ebf-8b80-fca6244649ea"
      },
      "source": [
        "# Model Training"
      ]
    },
    {
      "cell_type": "code",
      "execution_count": 43,
      "id": "9ad436b7-3818-49ff-b551-4d1870cf8c46",
      "metadata": {
        "papermill": {
          "duration": 0.39483,
          "end_time": "2023-06-24T14:03:43.485229",
          "exception": false,
          "start_time": "2023-06-24T14:03:43.090399",
          "status": "completed"
        },
        "tags": [],
        "id": "9ad436b7-3818-49ff-b551-4d1870cf8c46"
      },
      "outputs": [],
      "source": [
        "from sklearn.model_selection import train_test_split\n",
        "\n",
        "X_train, X_valid, y_train, y_valid = train_test_split(X, y, random_state=42)"
      ]
    },
    {
      "cell_type": "code",
      "execution_count": 44,
      "id": "a3f8eb16-5558-4b17-ad28-c1407383dcf7",
      "metadata": {
        "papermill": {
          "duration": 0.281369,
          "end_time": "2023-06-24T14:03:43.978723",
          "exception": false,
          "start_time": "2023-06-24T14:03:43.697354",
          "status": "completed"
        },
        "tags": [],
        "id": "a3f8eb16-5558-4b17-ad28-c1407383dcf7"
      },
      "outputs": [],
      "source": [
        "from xgboost import XGBClassifier\n",
        "xgb_base = XGBClassifier(objective=\"binary:logistic\", seed=40)"
      ]
    },
    {
      "cell_type": "code",
      "execution_count": 45,
      "id": "8ef67955-d6b4-40c4-9fa4-a97dc181791e",
      "metadata": {
        "papermill": {
          "duration": 0.301627,
          "end_time": "2023-06-24T14:03:44.348052",
          "exception": false,
          "start_time": "2023-06-24T14:03:44.046425",
          "status": "completed"
        },
        "tags": [],
        "colab": {
          "base_uri": "https://localhost:8080/",
          "height": 910
        },
        "id": "8ef67955-d6b4-40c4-9fa4-a97dc181791e",
        "outputId": "084ade16-1c9a-46cd-95a2-32f19faa5452"
      },
      "outputs": [
        {
          "output_type": "stream",
          "name": "stderr",
          "text": [
            "/usr/local/lib/python3.10/dist-packages/xgboost/sklearn.py:835: UserWarning: `eval_metric` in `fit` method is deprecated for better compatibility with scikit-learn, use `eval_metric` in constructor or`set_params` instead.\n",
            "  warnings.warn(\n",
            "/usr/local/lib/python3.10/dist-packages/xgboost/sklearn.py:835: UserWarning: `early_stopping_rounds` in `fit` method is deprecated for better compatibility with scikit-learn, use `early_stopping_rounds` in constructor or`set_params` instead.\n",
            "  warnings.warn(\n"
          ]
        },
        {
          "output_type": "stream",
          "name": "stdout",
          "text": [
            "[0]\tvalidation_0-aucpr:0.86520\n",
            "[1]\tvalidation_0-aucpr:0.87629\n",
            "[2]\tvalidation_0-aucpr:0.88232\n",
            "[3]\tvalidation_0-aucpr:0.88399\n",
            "[4]\tvalidation_0-aucpr:0.88738\n",
            "[5]\tvalidation_0-aucpr:0.88880\n",
            "[6]\tvalidation_0-aucpr:0.88956\n",
            "[7]\tvalidation_0-aucpr:0.89015\n",
            "[8]\tvalidation_0-aucpr:0.89059\n",
            "[9]\tvalidation_0-aucpr:0.89199\n",
            "[10]\tvalidation_0-aucpr:0.89298\n",
            "[11]\tvalidation_0-aucpr:0.89369\n",
            "[12]\tvalidation_0-aucpr:0.89313\n",
            "[13]\tvalidation_0-aucpr:0.89325\n",
            "[14]\tvalidation_0-aucpr:0.89372\n",
            "[15]\tvalidation_0-aucpr:0.89392\n",
            "[16]\tvalidation_0-aucpr:0.89508\n",
            "[17]\tvalidation_0-aucpr:0.89482\n",
            "[18]\tvalidation_0-aucpr:0.89519\n",
            "[19]\tvalidation_0-aucpr:0.89522\n",
            "[20]\tvalidation_0-aucpr:0.89599\n",
            "[21]\tvalidation_0-aucpr:0.89564\n",
            "[22]\tvalidation_0-aucpr:0.89601\n",
            "[23]\tvalidation_0-aucpr:0.89674\n",
            "[24]\tvalidation_0-aucpr:0.89646\n",
            "[25]\tvalidation_0-aucpr:0.89667\n",
            "[26]\tvalidation_0-aucpr:0.89664\n",
            "[27]\tvalidation_0-aucpr:0.89676\n",
            "[28]\tvalidation_0-aucpr:0.89689\n",
            "[29]\tvalidation_0-aucpr:0.89689\n",
            "[30]\tvalidation_0-aucpr:0.89686\n",
            "[31]\tvalidation_0-aucpr:0.89673\n",
            "[32]\tvalidation_0-aucpr:0.89678\n"
          ]
        },
        {
          "output_type": "execute_result",
          "data": {
            "text/plain": [
              "XGBClassifier(base_score=None, booster=None, callbacks=None,\n",
              "              colsample_bylevel=None, colsample_bynode=None,\n",
              "              colsample_bytree=None, early_stopping_rounds=None,\n",
              "              enable_categorical=False, eval_metric=None, feature_types=None,\n",
              "              gamma=None, gpu_id=None, grow_policy=None, importance_type=None,\n",
              "              interaction_constraints=None, learning_rate=None, max_bin=None,\n",
              "              max_cat_threshold=None, max_cat_to_onehot=None,\n",
              "              max_delta_step=None, max_depth=None, max_leaves=None,\n",
              "              min_child_weight=None, missing=nan, monotone_constraints=None,\n",
              "              n_estimators=100, n_jobs=None, num_parallel_tree=None,\n",
              "              predictor=None, random_state=None, ...)"
            ],
            "text/html": [
              "<style>#sk-container-id-1 {color: black;background-color: white;}#sk-container-id-1 pre{padding: 0;}#sk-container-id-1 div.sk-toggleable {background-color: white;}#sk-container-id-1 label.sk-toggleable__label {cursor: pointer;display: block;width: 100%;margin-bottom: 0;padding: 0.3em;box-sizing: border-box;text-align: center;}#sk-container-id-1 label.sk-toggleable__label-arrow:before {content: \"▸\";float: left;margin-right: 0.25em;color: #696969;}#sk-container-id-1 label.sk-toggleable__label-arrow:hover:before {color: black;}#sk-container-id-1 div.sk-estimator:hover label.sk-toggleable__label-arrow:before {color: black;}#sk-container-id-1 div.sk-toggleable__content {max-height: 0;max-width: 0;overflow: hidden;text-align: left;background-color: #f0f8ff;}#sk-container-id-1 div.sk-toggleable__content pre {margin: 0.2em;color: black;border-radius: 0.25em;background-color: #f0f8ff;}#sk-container-id-1 input.sk-toggleable__control:checked~div.sk-toggleable__content {max-height: 200px;max-width: 100%;overflow: auto;}#sk-container-id-1 input.sk-toggleable__control:checked~label.sk-toggleable__label-arrow:before {content: \"▾\";}#sk-container-id-1 div.sk-estimator input.sk-toggleable__control:checked~label.sk-toggleable__label {background-color: #d4ebff;}#sk-container-id-1 div.sk-label input.sk-toggleable__control:checked~label.sk-toggleable__label {background-color: #d4ebff;}#sk-container-id-1 input.sk-hidden--visually {border: 0;clip: rect(1px 1px 1px 1px);clip: rect(1px, 1px, 1px, 1px);height: 1px;margin: -1px;overflow: hidden;padding: 0;position: absolute;width: 1px;}#sk-container-id-1 div.sk-estimator {font-family: monospace;background-color: #f0f8ff;border: 1px dotted black;border-radius: 0.25em;box-sizing: border-box;margin-bottom: 0.5em;}#sk-container-id-1 div.sk-estimator:hover {background-color: #d4ebff;}#sk-container-id-1 div.sk-parallel-item::after {content: \"\";width: 100%;border-bottom: 1px solid gray;flex-grow: 1;}#sk-container-id-1 div.sk-label:hover label.sk-toggleable__label {background-color: #d4ebff;}#sk-container-id-1 div.sk-serial::before {content: \"\";position: absolute;border-left: 1px solid gray;box-sizing: border-box;top: 0;bottom: 0;left: 50%;z-index: 0;}#sk-container-id-1 div.sk-serial {display: flex;flex-direction: column;align-items: center;background-color: white;padding-right: 0.2em;padding-left: 0.2em;position: relative;}#sk-container-id-1 div.sk-item {position: relative;z-index: 1;}#sk-container-id-1 div.sk-parallel {display: flex;align-items: stretch;justify-content: center;background-color: white;position: relative;}#sk-container-id-1 div.sk-item::before, #sk-container-id-1 div.sk-parallel-item::before {content: \"\";position: absolute;border-left: 1px solid gray;box-sizing: border-box;top: 0;bottom: 0;left: 50%;z-index: -1;}#sk-container-id-1 div.sk-parallel-item {display: flex;flex-direction: column;z-index: 1;position: relative;background-color: white;}#sk-container-id-1 div.sk-parallel-item:first-child::after {align-self: flex-end;width: 50%;}#sk-container-id-1 div.sk-parallel-item:last-child::after {align-self: flex-start;width: 50%;}#sk-container-id-1 div.sk-parallel-item:only-child::after {width: 0;}#sk-container-id-1 div.sk-dashed-wrapped {border: 1px dashed gray;margin: 0 0.4em 0.5em 0.4em;box-sizing: border-box;padding-bottom: 0.4em;background-color: white;}#sk-container-id-1 div.sk-label label {font-family: monospace;font-weight: bold;display: inline-block;line-height: 1.2em;}#sk-container-id-1 div.sk-label-container {text-align: center;}#sk-container-id-1 div.sk-container {/* jupyter's `normalize.less` sets `[hidden] { display: none; }` but bootstrap.min.css set `[hidden] { display: none !important; }` so we also need the `!important` here to be able to override the default hidden behavior on the sphinx rendered scikit-learn.org. See: https://github.com/scikit-learn/scikit-learn/issues/21755 */display: inline-block !important;position: relative;}#sk-container-id-1 div.sk-text-repr-fallback {display: none;}</style><div id=\"sk-container-id-1\" class=\"sk-top-container\"><div class=\"sk-text-repr-fallback\"><pre>XGBClassifier(base_score=None, booster=None, callbacks=None,\n",
              "              colsample_bylevel=None, colsample_bynode=None,\n",
              "              colsample_bytree=None, early_stopping_rounds=None,\n",
              "              enable_categorical=False, eval_metric=None, feature_types=None,\n",
              "              gamma=None, gpu_id=None, grow_policy=None, importance_type=None,\n",
              "              interaction_constraints=None, learning_rate=None, max_bin=None,\n",
              "              max_cat_threshold=None, max_cat_to_onehot=None,\n",
              "              max_delta_step=None, max_depth=None, max_leaves=None,\n",
              "              min_child_weight=None, missing=nan, monotone_constraints=None,\n",
              "              n_estimators=100, n_jobs=None, num_parallel_tree=None,\n",
              "              predictor=None, random_state=None, ...)</pre><b>In a Jupyter environment, please rerun this cell to show the HTML representation or trust the notebook. <br />On GitHub, the HTML representation is unable to render, please try loading this page with nbviewer.org.</b></div><div class=\"sk-container\" hidden><div class=\"sk-item\"><div class=\"sk-estimator sk-toggleable\"><input class=\"sk-toggleable__control sk-hidden--visually\" id=\"sk-estimator-id-1\" type=\"checkbox\" checked><label for=\"sk-estimator-id-1\" class=\"sk-toggleable__label sk-toggleable__label-arrow\">XGBClassifier</label><div class=\"sk-toggleable__content\"><pre>XGBClassifier(base_score=None, booster=None, callbacks=None,\n",
              "              colsample_bylevel=None, colsample_bynode=None,\n",
              "              colsample_bytree=None, early_stopping_rounds=None,\n",
              "              enable_categorical=False, eval_metric=None, feature_types=None,\n",
              "              gamma=None, gpu_id=None, grow_policy=None, importance_type=None,\n",
              "              interaction_constraints=None, learning_rate=None, max_bin=None,\n",
              "              max_cat_threshold=None, max_cat_to_onehot=None,\n",
              "              max_delta_step=None, max_depth=None, max_leaves=None,\n",
              "              min_child_weight=None, missing=nan, monotone_constraints=None,\n",
              "              n_estimators=100, n_jobs=None, num_parallel_tree=None,\n",
              "              predictor=None, random_state=None, ...)</pre></div></div></div></div></div>"
            ]
          },
          "metadata": {},
          "execution_count": 45
        }
      ],
      "source": [
        "xgb_base.fit(X_train, y_train,\n",
        "            verbose=True,\n",
        "            early_stopping_rounds=5,\n",
        "            eval_set=[(X_valid, y_valid)],\n",
        "            eval_metric=\"aucpr\")"
      ]
    },
    {
      "cell_type": "code",
      "execution_count": 46,
      "id": "139c85dc-3e1d-42cd-bc4b-2b64b2587ae1",
      "metadata": {
        "papermill": {
          "duration": 0.083299,
          "end_time": "2023-06-24T14:03:44.503372",
          "exception": false,
          "start_time": "2023-06-24T14:03:44.420073",
          "status": "completed"
        },
        "tags": [],
        "colab": {
          "base_uri": "https://localhost:8080/",
          "height": 728
        },
        "id": "139c85dc-3e1d-42cd-bc4b-2b64b2587ae1",
        "outputId": "288d1f63-6059-4c5d-8328-a1f41c80ba70"
      },
      "outputs": [
        {
          "output_type": "display_data",
          "data": {
            "text/plain": [
              "{'objective': 'binary:logistic',\n",
              " 'use_label_encoder': None,\n",
              " 'base_score': None,\n",
              " 'booster': None,\n",
              " 'callbacks': None,\n",
              " 'colsample_bylevel': None,\n",
              " 'colsample_bynode': None,\n",
              " 'colsample_bytree': None,\n",
              " 'early_stopping_rounds': None,\n",
              " 'enable_categorical': False,\n",
              " 'eval_metric': None,\n",
              " 'feature_types': None,\n",
              " 'gamma': None,\n",
              " 'gpu_id': None,\n",
              " 'grow_policy': None,\n",
              " 'importance_type': None,\n",
              " 'interaction_constraints': None,\n",
              " 'learning_rate': None,\n",
              " 'max_bin': None,\n",
              " 'max_cat_threshold': None,\n",
              " 'max_cat_to_onehot': None,\n",
              " 'max_delta_step': None,\n",
              " 'max_depth': None,\n",
              " 'max_leaves': None,\n",
              " 'min_child_weight': None,\n",
              " 'missing': nan,\n",
              " 'monotone_constraints': None,\n",
              " 'n_estimators': 100,\n",
              " 'n_jobs': None,\n",
              " 'num_parallel_tree': None,\n",
              " 'predictor': None,\n",
              " 'random_state': None,\n",
              " 'reg_alpha': None,\n",
              " 'reg_lambda': None,\n",
              " 'sampling_method': None,\n",
              " 'scale_pos_weight': None,\n",
              " 'subsample': None,\n",
              " 'tree_method': None,\n",
              " 'validate_parameters': None,\n",
              " 'verbosity': None,\n",
              " 'seed': 40}"
            ]
          },
          "metadata": {}
        }
      ],
      "source": [
        "display(xgb_base.get_params())"
      ]
    },
    {
      "cell_type": "markdown",
      "id": "6cbf3769-222c-42f5-ba86-bb4c44bd2d6c",
      "metadata": {
        "papermill": {
          "duration": 0.07013,
          "end_time": "2023-06-24T14:03:44.645039",
          "exception": false,
          "start_time": "2023-06-24T14:03:44.574909",
          "status": "completed"
        },
        "tags": [],
        "id": "6cbf3769-222c-42f5-ba86-bb4c44bd2d6c"
      },
      "source": [
        "### Confusion Matrix\n",
        "Plotting a confusion matrix for the base model's predictions:"
      ]
    },
    {
      "cell_type": "code",
      "execution_count": 47,
      "id": "7b452daf-58a7-489c-ba87-5118077194ab",
      "metadata": {
        "papermill": {
          "duration": 0.670836,
          "end_time": "2023-06-24T14:03:45.385844",
          "exception": false,
          "start_time": "2023-06-24T14:03:44.715008",
          "status": "completed"
        },
        "tags": [],
        "colab": {
          "base_uri": "https://localhost:8080/",
          "height": 1000
        },
        "id": "7b452daf-58a7-489c-ba87-5118077194ab",
        "outputId": "232acc52-0d54-4c54-a062-e6c797a7a60f"
      },
      "outputs": [
        {
          "output_type": "stream",
          "name": "stdout",
          "text": [
            "Confusion matrix, without normalization\n",
            "[[834 248]\n",
            " [197 895]]\n",
            "Normalized confusion matrix\n",
            "[[0.77079482 0.22920518]\n",
            " [0.18040293 0.81959707]]\n"
          ]
        },
        {
          "output_type": "display_data",
          "data": {
            "text/plain": [
              "<Figure size 640x480 with 2 Axes>"
            ],
            "image/png": "[encoded data removed]"
          },
          "metadata": {}
        },
        {
          "output_type": "display_data",
          "data": {
            "text/plain": [
              "<Figure size 640x480 with 2 Axes>"
            ],
            "image/png": "[encoded data removed]"
          },
          "metadata": {}
        }
      ],
      "source": [
        "from sklearn.metrics import ConfusionMatrixDisplay\n",
        "# Plot non-normalized confusion matrix\n",
        "titles_options = [\n",
        "    (\"Confusion matrix, without normalization\", None),\n",
        "    (\"Normalized confusion matrix\", \"true\"),\n",
        "]\n",
        "for title, normalize in titles_options:\n",
        "    disp = ConfusionMatrixDisplay.from_estimator(\n",
        "        xgb_base,\n",
        "        X_valid,\n",
        "        y_valid,\n",
        "        display_labels=[\"Transported\", \"Not Transported\"],\n",
        "        cmap=plt.cm.Blues,\n",
        "        normalize=normalize,\n",
        "    )\n",
        "    disp.ax_.set_title(title)\n",
        "\n",
        "    print(title)\n",
        "    print(disp.confusion_matrix)\n",
        "\n",
        "plt.show()"
      ]
    },
    {
      "cell_type": "markdown",
      "id": "f317f587-886c-4b80-8f97-6300c2d2e69c",
      "metadata": {
        "papermill": {
          "duration": 0.073274,
          "end_time": "2023-06-24T14:03:45.531783",
          "exception": false,
          "start_time": "2023-06-24T14:03:45.458509",
          "status": "completed"
        },
        "tags": [],
        "id": "f317f587-886c-4b80-8f97-6300c2d2e69c"
      },
      "source": [
        "The above confusion matrix basically gives us a measure for how confused our model is by comparing how many passengers that were correctly classified vs. how many were incorrectly classified while taking into account in which way they were classified. We see that our base model correctly predicted **77%** of the transported passengers as being transported while incorrectly predicting **23%** of the transported passengers as not being transported. Conversely, it predicted correclty predicted **82%** of the passengers that weren't transported as not being transported and incorrectly predicting that **18%** of the passenger that weren't transported as being transported."
      ]
    },
    {
      "cell_type": "markdown",
      "id": "8bbb995d-1abf-4442-8633-8fc4e77f76d9",
      "metadata": {
        "papermill": {
          "duration": 0.116344,
          "end_time": "2023-06-24T14:03:45.725842",
          "exception": false,
          "start_time": "2023-06-24T14:03:45.609498",
          "status": "completed"
        },
        "tags": [],
        "id": "8bbb995d-1abf-4442-8633-8fc4e77f76d9"
      },
      "source": [
        "### Obtaining predictions"
      ]
    },
    {
      "cell_type": "code",
      "execution_count": 48,
      "id": "99a811a8-94cc-4b31-8b80-71e86380f356",
      "metadata": {
        "papermill": {
          "duration": 0.116344,
          "end_time": "2023-06-24T14:03:45.725842",
          "exception": false,
          "start_time": "2023-06-24T14:03:45.609498",
          "status": "completed"
        },
        "tags": [],
        "id": "99a811a8-94cc-4b31-8b80-71e86380f356"
      },
      "outputs": [],
      "source": [
        "predictions = xgb_base.predict(test_df)"
      ]
    },
    {
      "cell_type": "code",
      "execution_count": 49,
      "id": "71bd00a2-1e26-4367-85fa-d90c776c14c4",
      "metadata": {
        "papermill": {
          "duration": 0.110594,
          "end_time": "2023-06-24T14:03:45.921954",
          "exception": false,
          "start_time": "2023-06-24T14:03:45.811360",
          "status": "completed"
        },
        "tags": [],
        "id": "71bd00a2-1e26-4367-85fa-d90c776c14c4"
      },
      "outputs": [],
      "source": [
        "prediction_series = pd.Series(predictions).apply(lambda x: True if x == 1 else False)\n",
        "\n",
        "submission = pd.DataFrame({\"PassengerId\": test_IDs, \"Transported\": prediction_series})\n",
        "\n",
        "submission.to_csv('submission.csv', index=False)"
      ]
    },
    {
      "cell_type": "code",
      "source": [],
      "metadata": {
        "id": "C99dD3u8Cvba"
      },
      "id": "C99dD3u8Cvba",
      "execution_count": 49,
      "outputs": []
    }
  ],
  "metadata": {
    "kernelspec": {
      "display_name": "Python 3 (ipykernel)",
      "language": "python",
      "name": "python3"
    },
    "language_info": {
      "codemirror_mode": {
        "name": "ipython",
        "version": 3
      },
      "file_extension": ".py",
      "mimetype": "text/x-python",
      "name": "python",
      "nbconvert_exporter": "python",
      "pygments_lexer": "ipython3",
      "version": "3.10.11"
    },
    "colab": {
      "provenance": []
    }
  },
  "nbformat": 4,
  "nbformat_minor": 5
}